{
 "cells": [
  {
   "cell_type": "markdown",
   "metadata": {},
   "source": [
    "### Student Information\n",
    "Name: 許承恩\n",
    "\n",
    "Student ID: 112065519\n",
    "\n",
    "GitHub ID: theirenehsu\n",
    "\n",
    "Kaggle name: theirenehsu\n",
    "\n",
    "Kaggle private scoreboard snapshot:\n",
    "\n",
    "[Snapshot](img/pic0.png)"
   ]
  },
  {
   "cell_type": "markdown",
   "metadata": {},
   "source": [
    "## Table of Contents\n",
    "1. Part 1 - Lab Exercises\n",
    "\n",
    "2. Part 2 - Kaggle Competition\n",
    "\n",
    "3. Part 3 - Competition Report\n",
    "        "
   ]
  },
  {
   "cell_type": "markdown",
   "metadata": {},
   "source": [
    "---"
   ]
  },
  {
   "cell_type": "markdown",
   "metadata": {},
   "source": [
    "### Instructions"
   ]
  },
  {
   "cell_type": "markdown",
   "metadata": {},
   "source": [
    "1. First: __This part is worth 30% of your grade.__ Do the **take home** exercises in the DM2023-Lab2-master. You may need to copy some cells from the Lab notebook to this notebook. \n",
    "\n",
    "\n",
    "2. Second: __This part is worth 30% of your grade.__ Participate in the in-class [Kaggle Competition](https://www.kaggle.com/t/09b1d0f3f8584d06848252277cb535f2) regarding Emotion Recognition on Twitter by this link https://www.kaggle.com/t/09b1d0f3f8584d06848252277cb535f2. The scoring will be given according to your place in the Private Leaderboard ranking: \n",
    "    - **Bottom 40%**: Get 20% of the 30% available for this section.\n",
    "\n",
    "    - **Top 41% - 100%**: Get (60-x)/6 + 20 points, where x is your ranking in the leaderboard (ie. If you rank 3rd your score will be (60-3)/6 + 20 = 29.5% out of 30%)   \n",
    "    Submit your last submission __BEFORE the deadline (Dec. 27th 11:59 pm, Wednesday)_. Make sure to take a screenshot of your position at the end of the competition and store it as '''pic0.png''' under the **img** folder of this repository and rerun the cell **Student Information**.\n",
    "    \n",
    "\n",
    "3. Third: __This part is worth 30% of your grade.__ A report of your work developping the model for the competition (You can use code and comment it). This report should include what your preprocessing steps, the feature engineering steps and an explanation of your model. You can also mention different things you tried and insights you gained. \n",
    "\n",
    "\n",
    "4. Fourth: __This part is worth 10% of your grade.__ It's hard for us to follow if your code is messy :'(, so please **tidy up your notebook** and **add minimal comments where needed**.\n",
    "\n",
    "\n",
    "Upload your files to your repository then submit the link to it on the corresponding e-learn assignment.\n",
    "\n",
    "Make sure to commit and save your changes to your repository __BEFORE the deadline (Dec. 31th 11:59 pm, Sunday)__. "
   ]
  },
  {
   "cell_type": "markdown",
   "metadata": {},
   "source": [
    "# Part 1"
   ]
  },
  {
   "cell_type": "markdown",
   "metadata": {},
   "source": [
    "---\n",
    "### ** >>> Exercise 1 (Take home): **  \n",
    "Plot word frequency for Top 30 words in both train and test dataset. (Hint: refer to DM lab 1)\n"
   ]
  },
  {
   "cell_type": "code",
   "execution_count": 1,
   "metadata": {},
   "outputs": [],
   "source": [
    "import pandas as pd\n",
    "\n",
    "## load a pickle file\n",
    "train_df = pd.read_pickle(\"train_df.pkl\")\n",
    "test_df = pd.read_pickle(\"test_df.pkl\")"
   ]
  },
  {
   "cell_type": "code",
   "execution_count": 2,
   "metadata": {},
   "outputs": [
    {
     "name": "stderr",
     "output_type": "stream",
     "text": [
      "[nltk_data] Downloading package punkt to /Users/irenehsu/nltk_data...\n",
      "[nltk_data]   Package punkt is already up-to-date!\n"
     ]
    },
    {
     "name": "stdout",
     "output_type": "stream",
     "text": [
      "(3613, 10115)\n"
     ]
    },
    {
     "data": {
      "application/vnd.plotly.v1+json": {
       "config": {
        "plotlyServerURL": "https://plot.ly"
       },
       "data": [
        {
         "alignmentgroup": "True",
         "hovertemplate": "Terms=%{x}<br>Frequencies=%{y}<extra></extra>",
         "legendgroup": "",
         "marker": {
          "color": "#636efa",
          "pattern": {
           "shape": ""
          }
         },
         "name": "",
         "offsetgroup": "",
         "orientation": "v",
         "showlegend": false,
         "textposition": "auto",
         "type": "bar",
         "x": [
          "the",
          "to",
          "and",
          "you",
          "of",
          "is",
          "it",
          "in",
          "that",
          "my",
          "for",
          "on",
          "be",
          "me",
          "this",
          "so",
          "have",
          "not",
          "just",
          "but",
          "with",
          "at",
          "can",
          "like",
          "all",
          "are",
          "your",
          "was",
          "when",
          "if"
         ],
         "xaxis": "x",
         "y": [
          1736,
          1289,
          955,
          796,
          793,
          787,
          717,
          626,
          537,
          535,
          446,
          390,
          383,
          380,
          350,
          328,
          312,
          303,
          301,
          293,
          288,
          269,
          257,
          243,
          243,
          231,
          229,
          228,
          226,
          216
         ],
         "yaxis": "y"
        }
       ],
       "layout": {
        "barmode": "relative",
        "legend": {
         "tracegroupgap": 0
        },
        "margin": {
         "t": 60
        },
        "template": {
         "data": {
          "bar": [
           {
            "error_x": {
             "color": "#2a3f5f"
            },
            "error_y": {
             "color": "#2a3f5f"
            },
            "marker": {
             "line": {
              "color": "#E5ECF6",
              "width": 0.5
             },
             "pattern": {
              "fillmode": "overlay",
              "size": 10,
              "solidity": 0.2
             }
            },
            "type": "bar"
           }
          ],
          "barpolar": [
           {
            "marker": {
             "line": {
              "color": "#E5ECF6",
              "width": 0.5
             },
             "pattern": {
              "fillmode": "overlay",
              "size": 10,
              "solidity": 0.2
             }
            },
            "type": "barpolar"
           }
          ],
          "carpet": [
           {
            "aaxis": {
             "endlinecolor": "#2a3f5f",
             "gridcolor": "white",
             "linecolor": "white",
             "minorgridcolor": "white",
             "startlinecolor": "#2a3f5f"
            },
            "baxis": {
             "endlinecolor": "#2a3f5f",
             "gridcolor": "white",
             "linecolor": "white",
             "minorgridcolor": "white",
             "startlinecolor": "#2a3f5f"
            },
            "type": "carpet"
           }
          ],
          "choropleth": [
           {
            "colorbar": {
             "outlinewidth": 0,
             "ticks": ""
            },
            "type": "choropleth"
           }
          ],
          "contour": [
           {
            "colorbar": {
             "outlinewidth": 0,
             "ticks": ""
            },
            "colorscale": [
             [
              0,
              "#0d0887"
             ],
             [
              0.1111111111111111,
              "#46039f"
             ],
             [
              0.2222222222222222,
              "#7201a8"
             ],
             [
              0.3333333333333333,
              "#9c179e"
             ],
             [
              0.4444444444444444,
              "#bd3786"
             ],
             [
              0.5555555555555556,
              "#d8576b"
             ],
             [
              0.6666666666666666,
              "#ed7953"
             ],
             [
              0.7777777777777778,
              "#fb9f3a"
             ],
             [
              0.8888888888888888,
              "#fdca26"
             ],
             [
              1,
              "#f0f921"
             ]
            ],
            "type": "contour"
           }
          ],
          "contourcarpet": [
           {
            "colorbar": {
             "outlinewidth": 0,
             "ticks": ""
            },
            "type": "contourcarpet"
           }
          ],
          "heatmap": [
           {
            "colorbar": {
             "outlinewidth": 0,
             "ticks": ""
            },
            "colorscale": [
             [
              0,
              "#0d0887"
             ],
             [
              0.1111111111111111,
              "#46039f"
             ],
             [
              0.2222222222222222,
              "#7201a8"
             ],
             [
              0.3333333333333333,
              "#9c179e"
             ],
             [
              0.4444444444444444,
              "#bd3786"
             ],
             [
              0.5555555555555556,
              "#d8576b"
             ],
             [
              0.6666666666666666,
              "#ed7953"
             ],
             [
              0.7777777777777778,
              "#fb9f3a"
             ],
             [
              0.8888888888888888,
              "#fdca26"
             ],
             [
              1,
              "#f0f921"
             ]
            ],
            "type": "heatmap"
           }
          ],
          "heatmapgl": [
           {
            "colorbar": {
             "outlinewidth": 0,
             "ticks": ""
            },
            "colorscale": [
             [
              0,
              "#0d0887"
             ],
             [
              0.1111111111111111,
              "#46039f"
             ],
             [
              0.2222222222222222,
              "#7201a8"
             ],
             [
              0.3333333333333333,
              "#9c179e"
             ],
             [
              0.4444444444444444,
              "#bd3786"
             ],
             [
              0.5555555555555556,
              "#d8576b"
             ],
             [
              0.6666666666666666,
              "#ed7953"
             ],
             [
              0.7777777777777778,
              "#fb9f3a"
             ],
             [
              0.8888888888888888,
              "#fdca26"
             ],
             [
              1,
              "#f0f921"
             ]
            ],
            "type": "heatmapgl"
           }
          ],
          "histogram": [
           {
            "marker": {
             "pattern": {
              "fillmode": "overlay",
              "size": 10,
              "solidity": 0.2
             }
            },
            "type": "histogram"
           }
          ],
          "histogram2d": [
           {
            "colorbar": {
             "outlinewidth": 0,
             "ticks": ""
            },
            "colorscale": [
             [
              0,
              "#0d0887"
             ],
             [
              0.1111111111111111,
              "#46039f"
             ],
             [
              0.2222222222222222,
              "#7201a8"
             ],
             [
              0.3333333333333333,
              "#9c179e"
             ],
             [
              0.4444444444444444,
              "#bd3786"
             ],
             [
              0.5555555555555556,
              "#d8576b"
             ],
             [
              0.6666666666666666,
              "#ed7953"
             ],
             [
              0.7777777777777778,
              "#fb9f3a"
             ],
             [
              0.8888888888888888,
              "#fdca26"
             ],
             [
              1,
              "#f0f921"
             ]
            ],
            "type": "histogram2d"
           }
          ],
          "histogram2dcontour": [
           {
            "colorbar": {
             "outlinewidth": 0,
             "ticks": ""
            },
            "colorscale": [
             [
              0,
              "#0d0887"
             ],
             [
              0.1111111111111111,
              "#46039f"
             ],
             [
              0.2222222222222222,
              "#7201a8"
             ],
             [
              0.3333333333333333,
              "#9c179e"
             ],
             [
              0.4444444444444444,
              "#bd3786"
             ],
             [
              0.5555555555555556,
              "#d8576b"
             ],
             [
              0.6666666666666666,
              "#ed7953"
             ],
             [
              0.7777777777777778,
              "#fb9f3a"
             ],
             [
              0.8888888888888888,
              "#fdca26"
             ],
             [
              1,
              "#f0f921"
             ]
            ],
            "type": "histogram2dcontour"
           }
          ],
          "mesh3d": [
           {
            "colorbar": {
             "outlinewidth": 0,
             "ticks": ""
            },
            "type": "mesh3d"
           }
          ],
          "parcoords": [
           {
            "line": {
             "colorbar": {
              "outlinewidth": 0,
              "ticks": ""
             }
            },
            "type": "parcoords"
           }
          ],
          "pie": [
           {
            "automargin": true,
            "type": "pie"
           }
          ],
          "scatter": [
           {
            "fillpattern": {
             "fillmode": "overlay",
             "size": 10,
             "solidity": 0.2
            },
            "type": "scatter"
           }
          ],
          "scatter3d": [
           {
            "line": {
             "colorbar": {
              "outlinewidth": 0,
              "ticks": ""
             }
            },
            "marker": {
             "colorbar": {
              "outlinewidth": 0,
              "ticks": ""
             }
            },
            "type": "scatter3d"
           }
          ],
          "scattercarpet": [
           {
            "marker": {
             "colorbar": {
              "outlinewidth": 0,
              "ticks": ""
             }
            },
            "type": "scattercarpet"
           }
          ],
          "scattergeo": [
           {
            "marker": {
             "colorbar": {
              "outlinewidth": 0,
              "ticks": ""
             }
            },
            "type": "scattergeo"
           }
          ],
          "scattergl": [
           {
            "marker": {
             "colorbar": {
              "outlinewidth": 0,
              "ticks": ""
             }
            },
            "type": "scattergl"
           }
          ],
          "scattermapbox": [
           {
            "marker": {
             "colorbar": {
              "outlinewidth": 0,
              "ticks": ""
             }
            },
            "type": "scattermapbox"
           }
          ],
          "scatterpolar": [
           {
            "marker": {
             "colorbar": {
              "outlinewidth": 0,
              "ticks": ""
             }
            },
            "type": "scatterpolar"
           }
          ],
          "scatterpolargl": [
           {
            "marker": {
             "colorbar": {
              "outlinewidth": 0,
              "ticks": ""
             }
            },
            "type": "scatterpolargl"
           }
          ],
          "scatterternary": [
           {
            "marker": {
             "colorbar": {
              "outlinewidth": 0,
              "ticks": ""
             }
            },
            "type": "scatterternary"
           }
          ],
          "surface": [
           {
            "colorbar": {
             "outlinewidth": 0,
             "ticks": ""
            },
            "colorscale": [
             [
              0,
              "#0d0887"
             ],
             [
              0.1111111111111111,
              "#46039f"
             ],
             [
              0.2222222222222222,
              "#7201a8"
             ],
             [
              0.3333333333333333,
              "#9c179e"
             ],
             [
              0.4444444444444444,
              "#bd3786"
             ],
             [
              0.5555555555555556,
              "#d8576b"
             ],
             [
              0.6666666666666666,
              "#ed7953"
             ],
             [
              0.7777777777777778,
              "#fb9f3a"
             ],
             [
              0.8888888888888888,
              "#fdca26"
             ],
             [
              1,
              "#f0f921"
             ]
            ],
            "type": "surface"
           }
          ],
          "table": [
           {
            "cells": {
             "fill": {
              "color": "#EBF0F8"
             },
             "line": {
              "color": "white"
             }
            },
            "header": {
             "fill": {
              "color": "#C8D4E3"
             },
             "line": {
              "color": "white"
             }
            },
            "type": "table"
           }
          ]
         },
         "layout": {
          "annotationdefaults": {
           "arrowcolor": "#2a3f5f",
           "arrowhead": 0,
           "arrowwidth": 1
          },
          "autotypenumbers": "strict",
          "coloraxis": {
           "colorbar": {
            "outlinewidth": 0,
            "ticks": ""
           }
          },
          "colorscale": {
           "diverging": [
            [
             0,
             "#8e0152"
            ],
            [
             0.1,
             "#c51b7d"
            ],
            [
             0.2,
             "#de77ae"
            ],
            [
             0.3,
             "#f1b6da"
            ],
            [
             0.4,
             "#fde0ef"
            ],
            [
             0.5,
             "#f7f7f7"
            ],
            [
             0.6,
             "#e6f5d0"
            ],
            [
             0.7,
             "#b8e186"
            ],
            [
             0.8,
             "#7fbc41"
            ],
            [
             0.9,
             "#4d9221"
            ],
            [
             1,
             "#276419"
            ]
           ],
           "sequential": [
            [
             0,
             "#0d0887"
            ],
            [
             0.1111111111111111,
             "#46039f"
            ],
            [
             0.2222222222222222,
             "#7201a8"
            ],
            [
             0.3333333333333333,
             "#9c179e"
            ],
            [
             0.4444444444444444,
             "#bd3786"
            ],
            [
             0.5555555555555556,
             "#d8576b"
            ],
            [
             0.6666666666666666,
             "#ed7953"
            ],
            [
             0.7777777777777778,
             "#fb9f3a"
            ],
            [
             0.8888888888888888,
             "#fdca26"
            ],
            [
             1,
             "#f0f921"
            ]
           ],
           "sequentialminus": [
            [
             0,
             "#0d0887"
            ],
            [
             0.1111111111111111,
             "#46039f"
            ],
            [
             0.2222222222222222,
             "#7201a8"
            ],
            [
             0.3333333333333333,
             "#9c179e"
            ],
            [
             0.4444444444444444,
             "#bd3786"
            ],
            [
             0.5555555555555556,
             "#d8576b"
            ],
            [
             0.6666666666666666,
             "#ed7953"
            ],
            [
             0.7777777777777778,
             "#fb9f3a"
            ],
            [
             0.8888888888888888,
             "#fdca26"
            ],
            [
             1,
             "#f0f921"
            ]
           ]
          },
          "colorway": [
           "#636efa",
           "#EF553B",
           "#00cc96",
           "#ab63fa",
           "#FFA15A",
           "#19d3f3",
           "#FF6692",
           "#B6E880",
           "#FF97FF",
           "#FECB52"
          ],
          "font": {
           "color": "#2a3f5f"
          },
          "geo": {
           "bgcolor": "white",
           "lakecolor": "white",
           "landcolor": "#E5ECF6",
           "showlakes": true,
           "showland": true,
           "subunitcolor": "white"
          },
          "hoverlabel": {
           "align": "left"
          },
          "hovermode": "closest",
          "mapbox": {
           "style": "light"
          },
          "paper_bgcolor": "white",
          "plot_bgcolor": "#E5ECF6",
          "polar": {
           "angularaxis": {
            "gridcolor": "white",
            "linecolor": "white",
            "ticks": ""
           },
           "bgcolor": "#E5ECF6",
           "radialaxis": {
            "gridcolor": "white",
            "linecolor": "white",
            "ticks": ""
           }
          },
          "scene": {
           "xaxis": {
            "backgroundcolor": "#E5ECF6",
            "gridcolor": "white",
            "gridwidth": 2,
            "linecolor": "white",
            "showbackground": true,
            "ticks": "",
            "zerolinecolor": "white"
           },
           "yaxis": {
            "backgroundcolor": "#E5ECF6",
            "gridcolor": "white",
            "gridwidth": 2,
            "linecolor": "white",
            "showbackground": true,
            "ticks": "",
            "zerolinecolor": "white"
           },
           "zaxis": {
            "backgroundcolor": "#E5ECF6",
            "gridcolor": "white",
            "gridwidth": 2,
            "linecolor": "white",
            "showbackground": true,
            "ticks": "",
            "zerolinecolor": "white"
           }
          },
          "shapedefaults": {
           "line": {
            "color": "#2a3f5f"
           }
          },
          "ternary": {
           "aaxis": {
            "gridcolor": "white",
            "linecolor": "white",
            "ticks": ""
           },
           "baxis": {
            "gridcolor": "white",
            "linecolor": "white",
            "ticks": ""
           },
           "bgcolor": "#E5ECF6",
           "caxis": {
            "gridcolor": "white",
            "linecolor": "white",
            "ticks": ""
           }
          },
          "title": {
           "x": 0.05
          },
          "xaxis": {
           "automargin": true,
           "gridcolor": "white",
           "linecolor": "white",
           "ticks": "",
           "title": {
            "standoff": 15
           },
           "zerolinecolor": "white",
           "zerolinewidth": 2
          },
          "yaxis": {
           "automargin": true,
           "gridcolor": "white",
           "linecolor": "white",
           "ticks": "",
           "title": {
            "standoff": 15
           },
           "zerolinecolor": "white",
           "zerolinewidth": 2
          }
         }
        },
        "xaxis": {
         "anchor": "y",
         "domain": [
          0,
          1
         ],
         "tickangle": 90,
         "title": {
          "text": "Terms"
         }
        },
        "yaxis": {
         "anchor": "x",
         "domain": [
          0,
          1
         ],
         "title": {
          "text": "Frequencies"
         }
        }
       }
      }
     },
     "metadata": {},
     "output_type": "display_data"
    }
   ],
   "source": [
    "# Answer here\n",
    "import nltk\n",
    "import numpy as np\n",
    "import helpers.data_mining_helpers as dmh\n",
    "import plotly.express as plot_ex\n",
    "from sklearn.feature_extraction.text import CountVectorizer\n",
    "\n",
    "nltk.download('punkt')\n",
    "\n",
    "# Top 30 words in train dataset\n",
    "train_df['unigrams'] = train_df['text'].apply(lambda x: dmh.tokenize_text(x))\n",
    "\n",
    "count_vect = CountVectorizer()\n",
    "train_counts = count_vect.fit_transform(train_df.text) #learn the vocabulary and return document-term matrix\n",
    "print(train_counts.shape)\n",
    "\n",
    "term_frequencies = []\n",
    "for j in range(0, train_counts.shape[1]):\n",
    "    term_frequencies.append(sum(train_counts[:,j].toarray()))\n",
    "\n",
    "term_frequencies = np.asarray(train_counts.sum(axis=0))[0]\n",
    "\n",
    "sorted_terms = [term for _, term in sorted(zip(term_frequencies, count_vect.get_feature_names_out()), reverse=True)]\n",
    "sorted_frequencies = sorted(term_frequencies, reverse=True)\n",
    "\n",
    "filtered_data = {\n",
    "    'Terms': sorted_terms[0:30],\n",
    "    'Frequencies': sorted_frequencies[0:30]\n",
    "}\n",
    "df_filtered = pd.DataFrame(filtered_data)\n",
    "\n",
    "fig = plot_ex.bar(df_filtered, x='Terms', y='Frequencies')\n",
    "fig.update_xaxes(tickangle=90)\n",
    "\n",
    "fig.show()"
   ]
  },
  {
   "cell_type": "code",
   "execution_count": 3,
   "metadata": {},
   "outputs": [
    {
     "name": "stdout",
     "output_type": "stream",
     "text": [
      "(347, 1949)\n"
     ]
    },
    {
     "data": {
      "application/vnd.plotly.v1+json": {
       "config": {
        "plotlyServerURL": "https://plot.ly"
       },
       "data": [
        {
         "alignmentgroup": "True",
         "hovertemplate": "Terms=%{x}<br>Frequencies=%{y}<extra></extra>",
         "legendgroup": "",
         "marker": {
          "color": "#636efa",
          "pattern": {
           "shape": ""
          }
         },
         "name": "",
         "offsetgroup": "",
         "orientation": "v",
         "showlegend": false,
         "textposition": "auto",
         "type": "bar",
         "x": [
          "the",
          "to",
          "and",
          "of",
          "it",
          "you",
          "is",
          "in",
          "for",
          "that",
          "my",
          "on",
          "be",
          "me",
          "was",
          "so",
          "can",
          "have",
          "at",
          "all",
          "with",
          "just",
          "are",
          "get",
          "but",
          "your",
          "up",
          "this",
          "not",
          "like"
         ],
         "xaxis": "x",
         "y": [
          153,
          138,
          92,
          83,
          83,
          82,
          77,
          69,
          57,
          55,
          52,
          46,
          40,
          36,
          34,
          34,
          32,
          30,
          30,
          30,
          29,
          29,
          29,
          26,
          26,
          24,
          24,
          24,
          24,
          24
         ],
         "yaxis": "y"
        }
       ],
       "layout": {
        "barmode": "relative",
        "legend": {
         "tracegroupgap": 0
        },
        "margin": {
         "t": 60
        },
        "template": {
         "data": {
          "bar": [
           {
            "error_x": {
             "color": "#2a3f5f"
            },
            "error_y": {
             "color": "#2a3f5f"
            },
            "marker": {
             "line": {
              "color": "#E5ECF6",
              "width": 0.5
             },
             "pattern": {
              "fillmode": "overlay",
              "size": 10,
              "solidity": 0.2
             }
            },
            "type": "bar"
           }
          ],
          "barpolar": [
           {
            "marker": {
             "line": {
              "color": "#E5ECF6",
              "width": 0.5
             },
             "pattern": {
              "fillmode": "overlay",
              "size": 10,
              "solidity": 0.2
             }
            },
            "type": "barpolar"
           }
          ],
          "carpet": [
           {
            "aaxis": {
             "endlinecolor": "#2a3f5f",
             "gridcolor": "white",
             "linecolor": "white",
             "minorgridcolor": "white",
             "startlinecolor": "#2a3f5f"
            },
            "baxis": {
             "endlinecolor": "#2a3f5f",
             "gridcolor": "white",
             "linecolor": "white",
             "minorgridcolor": "white",
             "startlinecolor": "#2a3f5f"
            },
            "type": "carpet"
           }
          ],
          "choropleth": [
           {
            "colorbar": {
             "outlinewidth": 0,
             "ticks": ""
            },
            "type": "choropleth"
           }
          ],
          "contour": [
           {
            "colorbar": {
             "outlinewidth": 0,
             "ticks": ""
            },
            "colorscale": [
             [
              0,
              "#0d0887"
             ],
             [
              0.1111111111111111,
              "#46039f"
             ],
             [
              0.2222222222222222,
              "#7201a8"
             ],
             [
              0.3333333333333333,
              "#9c179e"
             ],
             [
              0.4444444444444444,
              "#bd3786"
             ],
             [
              0.5555555555555556,
              "#d8576b"
             ],
             [
              0.6666666666666666,
              "#ed7953"
             ],
             [
              0.7777777777777778,
              "#fb9f3a"
             ],
             [
              0.8888888888888888,
              "#fdca26"
             ],
             [
              1,
              "#f0f921"
             ]
            ],
            "type": "contour"
           }
          ],
          "contourcarpet": [
           {
            "colorbar": {
             "outlinewidth": 0,
             "ticks": ""
            },
            "type": "contourcarpet"
           }
          ],
          "heatmap": [
           {
            "colorbar": {
             "outlinewidth": 0,
             "ticks": ""
            },
            "colorscale": [
             [
              0,
              "#0d0887"
             ],
             [
              0.1111111111111111,
              "#46039f"
             ],
             [
              0.2222222222222222,
              "#7201a8"
             ],
             [
              0.3333333333333333,
              "#9c179e"
             ],
             [
              0.4444444444444444,
              "#bd3786"
             ],
             [
              0.5555555555555556,
              "#d8576b"
             ],
             [
              0.6666666666666666,
              "#ed7953"
             ],
             [
              0.7777777777777778,
              "#fb9f3a"
             ],
             [
              0.8888888888888888,
              "#fdca26"
             ],
             [
              1,
              "#f0f921"
             ]
            ],
            "type": "heatmap"
           }
          ],
          "heatmapgl": [
           {
            "colorbar": {
             "outlinewidth": 0,
             "ticks": ""
            },
            "colorscale": [
             [
              0,
              "#0d0887"
             ],
             [
              0.1111111111111111,
              "#46039f"
             ],
             [
              0.2222222222222222,
              "#7201a8"
             ],
             [
              0.3333333333333333,
              "#9c179e"
             ],
             [
              0.4444444444444444,
              "#bd3786"
             ],
             [
              0.5555555555555556,
              "#d8576b"
             ],
             [
              0.6666666666666666,
              "#ed7953"
             ],
             [
              0.7777777777777778,
              "#fb9f3a"
             ],
             [
              0.8888888888888888,
              "#fdca26"
             ],
             [
              1,
              "#f0f921"
             ]
            ],
            "type": "heatmapgl"
           }
          ],
          "histogram": [
           {
            "marker": {
             "pattern": {
              "fillmode": "overlay",
              "size": 10,
              "solidity": 0.2
             }
            },
            "type": "histogram"
           }
          ],
          "histogram2d": [
           {
            "colorbar": {
             "outlinewidth": 0,
             "ticks": ""
            },
            "colorscale": [
             [
              0,
              "#0d0887"
             ],
             [
              0.1111111111111111,
              "#46039f"
             ],
             [
              0.2222222222222222,
              "#7201a8"
             ],
             [
              0.3333333333333333,
              "#9c179e"
             ],
             [
              0.4444444444444444,
              "#bd3786"
             ],
             [
              0.5555555555555556,
              "#d8576b"
             ],
             [
              0.6666666666666666,
              "#ed7953"
             ],
             [
              0.7777777777777778,
              "#fb9f3a"
             ],
             [
              0.8888888888888888,
              "#fdca26"
             ],
             [
              1,
              "#f0f921"
             ]
            ],
            "type": "histogram2d"
           }
          ],
          "histogram2dcontour": [
           {
            "colorbar": {
             "outlinewidth": 0,
             "ticks": ""
            },
            "colorscale": [
             [
              0,
              "#0d0887"
             ],
             [
              0.1111111111111111,
              "#46039f"
             ],
             [
              0.2222222222222222,
              "#7201a8"
             ],
             [
              0.3333333333333333,
              "#9c179e"
             ],
             [
              0.4444444444444444,
              "#bd3786"
             ],
             [
              0.5555555555555556,
              "#d8576b"
             ],
             [
              0.6666666666666666,
              "#ed7953"
             ],
             [
              0.7777777777777778,
              "#fb9f3a"
             ],
             [
              0.8888888888888888,
              "#fdca26"
             ],
             [
              1,
              "#f0f921"
             ]
            ],
            "type": "histogram2dcontour"
           }
          ],
          "mesh3d": [
           {
            "colorbar": {
             "outlinewidth": 0,
             "ticks": ""
            },
            "type": "mesh3d"
           }
          ],
          "parcoords": [
           {
            "line": {
             "colorbar": {
              "outlinewidth": 0,
              "ticks": ""
             }
            },
            "type": "parcoords"
           }
          ],
          "pie": [
           {
            "automargin": true,
            "type": "pie"
           }
          ],
          "scatter": [
           {
            "fillpattern": {
             "fillmode": "overlay",
             "size": 10,
             "solidity": 0.2
            },
            "type": "scatter"
           }
          ],
          "scatter3d": [
           {
            "line": {
             "colorbar": {
              "outlinewidth": 0,
              "ticks": ""
             }
            },
            "marker": {
             "colorbar": {
              "outlinewidth": 0,
              "ticks": ""
             }
            },
            "type": "scatter3d"
           }
          ],
          "scattercarpet": [
           {
            "marker": {
             "colorbar": {
              "outlinewidth": 0,
              "ticks": ""
             }
            },
            "type": "scattercarpet"
           }
          ],
          "scattergeo": [
           {
            "marker": {
             "colorbar": {
              "outlinewidth": 0,
              "ticks": ""
             }
            },
            "type": "scattergeo"
           }
          ],
          "scattergl": [
           {
            "marker": {
             "colorbar": {
              "outlinewidth": 0,
              "ticks": ""
             }
            },
            "type": "scattergl"
           }
          ],
          "scattermapbox": [
           {
            "marker": {
             "colorbar": {
              "outlinewidth": 0,
              "ticks": ""
             }
            },
            "type": "scattermapbox"
           }
          ],
          "scatterpolar": [
           {
            "marker": {
             "colorbar": {
              "outlinewidth": 0,
              "ticks": ""
             }
            },
            "type": "scatterpolar"
           }
          ],
          "scatterpolargl": [
           {
            "marker": {
             "colorbar": {
              "outlinewidth": 0,
              "ticks": ""
             }
            },
            "type": "scatterpolargl"
           }
          ],
          "scatterternary": [
           {
            "marker": {
             "colorbar": {
              "outlinewidth": 0,
              "ticks": ""
             }
            },
            "type": "scatterternary"
           }
          ],
          "surface": [
           {
            "colorbar": {
             "outlinewidth": 0,
             "ticks": ""
            },
            "colorscale": [
             [
              0,
              "#0d0887"
             ],
             [
              0.1111111111111111,
              "#46039f"
             ],
             [
              0.2222222222222222,
              "#7201a8"
             ],
             [
              0.3333333333333333,
              "#9c179e"
             ],
             [
              0.4444444444444444,
              "#bd3786"
             ],
             [
              0.5555555555555556,
              "#d8576b"
             ],
             [
              0.6666666666666666,
              "#ed7953"
             ],
             [
              0.7777777777777778,
              "#fb9f3a"
             ],
             [
              0.8888888888888888,
              "#fdca26"
             ],
             [
              1,
              "#f0f921"
             ]
            ],
            "type": "surface"
           }
          ],
          "table": [
           {
            "cells": {
             "fill": {
              "color": "#EBF0F8"
             },
             "line": {
              "color": "white"
             }
            },
            "header": {
             "fill": {
              "color": "#C8D4E3"
             },
             "line": {
              "color": "white"
             }
            },
            "type": "table"
           }
          ]
         },
         "layout": {
          "annotationdefaults": {
           "arrowcolor": "#2a3f5f",
           "arrowhead": 0,
           "arrowwidth": 1
          },
          "autotypenumbers": "strict",
          "coloraxis": {
           "colorbar": {
            "outlinewidth": 0,
            "ticks": ""
           }
          },
          "colorscale": {
           "diverging": [
            [
             0,
             "#8e0152"
            ],
            [
             0.1,
             "#c51b7d"
            ],
            [
             0.2,
             "#de77ae"
            ],
            [
             0.3,
             "#f1b6da"
            ],
            [
             0.4,
             "#fde0ef"
            ],
            [
             0.5,
             "#f7f7f7"
            ],
            [
             0.6,
             "#e6f5d0"
            ],
            [
             0.7,
             "#b8e186"
            ],
            [
             0.8,
             "#7fbc41"
            ],
            [
             0.9,
             "#4d9221"
            ],
            [
             1,
             "#276419"
            ]
           ],
           "sequential": [
            [
             0,
             "#0d0887"
            ],
            [
             0.1111111111111111,
             "#46039f"
            ],
            [
             0.2222222222222222,
             "#7201a8"
            ],
            [
             0.3333333333333333,
             "#9c179e"
            ],
            [
             0.4444444444444444,
             "#bd3786"
            ],
            [
             0.5555555555555556,
             "#d8576b"
            ],
            [
             0.6666666666666666,
             "#ed7953"
            ],
            [
             0.7777777777777778,
             "#fb9f3a"
            ],
            [
             0.8888888888888888,
             "#fdca26"
            ],
            [
             1,
             "#f0f921"
            ]
           ],
           "sequentialminus": [
            [
             0,
             "#0d0887"
            ],
            [
             0.1111111111111111,
             "#46039f"
            ],
            [
             0.2222222222222222,
             "#7201a8"
            ],
            [
             0.3333333333333333,
             "#9c179e"
            ],
            [
             0.4444444444444444,
             "#bd3786"
            ],
            [
             0.5555555555555556,
             "#d8576b"
            ],
            [
             0.6666666666666666,
             "#ed7953"
            ],
            [
             0.7777777777777778,
             "#fb9f3a"
            ],
            [
             0.8888888888888888,
             "#fdca26"
            ],
            [
             1,
             "#f0f921"
            ]
           ]
          },
          "colorway": [
           "#636efa",
           "#EF553B",
           "#00cc96",
           "#ab63fa",
           "#FFA15A",
           "#19d3f3",
           "#FF6692",
           "#B6E880",
           "#FF97FF",
           "#FECB52"
          ],
          "font": {
           "color": "#2a3f5f"
          },
          "geo": {
           "bgcolor": "white",
           "lakecolor": "white",
           "landcolor": "#E5ECF6",
           "showlakes": true,
           "showland": true,
           "subunitcolor": "white"
          },
          "hoverlabel": {
           "align": "left"
          },
          "hovermode": "closest",
          "mapbox": {
           "style": "light"
          },
          "paper_bgcolor": "white",
          "plot_bgcolor": "#E5ECF6",
          "polar": {
           "angularaxis": {
            "gridcolor": "white",
            "linecolor": "white",
            "ticks": ""
           },
           "bgcolor": "#E5ECF6",
           "radialaxis": {
            "gridcolor": "white",
            "linecolor": "white",
            "ticks": ""
           }
          },
          "scene": {
           "xaxis": {
            "backgroundcolor": "#E5ECF6",
            "gridcolor": "white",
            "gridwidth": 2,
            "linecolor": "white",
            "showbackground": true,
            "ticks": "",
            "zerolinecolor": "white"
           },
           "yaxis": {
            "backgroundcolor": "#E5ECF6",
            "gridcolor": "white",
            "gridwidth": 2,
            "linecolor": "white",
            "showbackground": true,
            "ticks": "",
            "zerolinecolor": "white"
           },
           "zaxis": {
            "backgroundcolor": "#E5ECF6",
            "gridcolor": "white",
            "gridwidth": 2,
            "linecolor": "white",
            "showbackground": true,
            "ticks": "",
            "zerolinecolor": "white"
           }
          },
          "shapedefaults": {
           "line": {
            "color": "#2a3f5f"
           }
          },
          "ternary": {
           "aaxis": {
            "gridcolor": "white",
            "linecolor": "white",
            "ticks": ""
           },
           "baxis": {
            "gridcolor": "white",
            "linecolor": "white",
            "ticks": ""
           },
           "bgcolor": "#E5ECF6",
           "caxis": {
            "gridcolor": "white",
            "linecolor": "white",
            "ticks": ""
           }
          },
          "title": {
           "x": 0.05
          },
          "xaxis": {
           "automargin": true,
           "gridcolor": "white",
           "linecolor": "white",
           "ticks": "",
           "title": {
            "standoff": 15
           },
           "zerolinecolor": "white",
           "zerolinewidth": 2
          },
          "yaxis": {
           "automargin": true,
           "gridcolor": "white",
           "linecolor": "white",
           "ticks": "",
           "title": {
            "standoff": 15
           },
           "zerolinecolor": "white",
           "zerolinewidth": 2
          }
         }
        },
        "xaxis": {
         "anchor": "y",
         "domain": [
          0,
          1
         ],
         "tickangle": 90,
         "title": {
          "text": "Terms"
         }
        },
        "yaxis": {
         "anchor": "x",
         "domain": [
          0,
          1
         ],
         "title": {
          "text": "Frequencies"
         }
        }
       }
      }
     },
     "metadata": {},
     "output_type": "display_data"
    }
   ],
   "source": [
    "# Top 30 words in test dataset\n",
    "test_df['unigrams'] = test_df['text'].apply(lambda x: dmh.tokenize_text(x))\n",
    "\n",
    "count_vect = CountVectorizer()\n",
    "test_counts = count_vect.fit_transform(test_df.text) #learn the vocabulary and return document-term matrix\n",
    "print(test_counts.shape)\n",
    "\n",
    "term_frequencies = []\n",
    "for j in range(0, test_counts.shape[1]):\n",
    "    term_frequencies.append(sum(test_counts[:,j].toarray()))\n",
    "\n",
    "term_frequencies = np.asarray(test_counts.sum(axis=0))[0]\n",
    "\n",
    "sorted_terms = [term for _, term in sorted(zip(term_frequencies, count_vect.get_feature_names_out()), reverse=True)]\n",
    "sorted_frequencies = sorted(term_frequencies, reverse=True)\n",
    "\n",
    "filtered_data = {\n",
    "    'Terms': sorted_terms[0:30],\n",
    "    'Frequencies': sorted_frequencies[0:30]\n",
    "}\n",
    "df_filtered = pd.DataFrame(filtered_data)\n",
    "\n",
    "fig = plot_ex.bar(df_filtered, x='Terms', y='Frequencies')\n",
    "fig.update_xaxes(tickangle=90)\n",
    "\n",
    "fig.show()"
   ]
  },
  {
   "cell_type": "markdown",
   "metadata": {},
   "source": [
    "---\n",
    "### ** >>> Exercise 2 (Take home): **  \n",
    "Generate an embedding using the TF-IDF vectorizer instead of th BOW one with 1000 features and show the feature names for features [100:110]."
   ]
  },
  {
   "cell_type": "code",
   "execution_count": 5,
   "metadata": {},
   "outputs": [
    {
     "data": {
      "text/plain": [
       "array(['awful', 'b', 'baby', 'back', 'bad', 'ball', 'balls', 'bb18', 'bc',\n",
       "       'bday'], dtype=object)"
      ]
     },
     "execution_count": 5,
     "metadata": {},
     "output_type": "execute_result"
    }
   ],
   "source": [
    "# Answer here\n",
    "from sklearn.feature_extraction.text import TfidfVectorizer\n",
    "\n",
    "# build analyzers\n",
    "tfidf_1000 = TfidfVectorizer(max_features=1000, tokenizer=nltk.word_tokenize) \n",
    "\n",
    "# apply analyzer to training data\n",
    "tfidf_1000.fit(train_df['text'])\n",
    "\n",
    "train_data_tfidf_features_1000 = tfidf_1000.transform(train_df['text'])\n",
    "\n",
    "## check dimension\n",
    "train_data_tfidf_features_1000.shape\n",
    "train_data_tfidf_features_1000.toarray()\n",
    "\n",
    "feature_names_1000 = tfidf_1000.get_feature_names_out()\n",
    "feature_names_1000[100:110]"
   ]
  },
  {
   "cell_type": "markdown",
   "metadata": {},
   "source": [
    "---\n",
    "### ** >>> Exercise 3 (Take home): **  \n",
    "Can you interpret the results above? What do they mean?"
   ]
  },
  {
   "cell_type": "markdown",
   "metadata": {},
   "source": [
    "### Answer here\n",
    "Each entry [i, j] in the confusion matrix represents the instances of true class i being predicted as class j.\n",
    "\n",
    "The number 57 in the [0, 0] position of the confusion matrix above indicates that the times of true label is anger, and the predicted label is also anger. \n",
    "\n",
    "The number 16 in the [1, 0] position of the confusion matrix above indicates that the times of true label is fear, but the prediction is anger.\n",
    "\n",
    "The number 6 in the [2, 0] position of the confusion matrix above indicates that the times of true label is joy, but the prediction is anger.\n",
    "\n",
    "The number 7 in the [3, 0] position of the confusion matrix above indicates that the times of true label is sadness, but the prediction is anger.\n",
    "\n",
    "Similarly, the numbers in other positions follow the same logic."
   ]
  },
  {
   "cell_type": "markdown",
   "metadata": {},
   "source": [
    "---\n",
    "### ** >>> Exercise 4 (Take home): **  \n",
    "Build a model using a ```Naive Bayes``` model and train it. What are the testing results? \n",
    "\n",
    "*Reference*: https://scikit-learn.org/stable/modules/generated/sklearn.naive_bayes.MultinomialNB.html"
   ]
  },
  {
   "cell_type": "code",
   "execution_count": 6,
   "metadata": {},
   "outputs": [
    {
     "name": "stderr",
     "output_type": "stream",
     "text": [
      "[nltk_data] Downloading package punkt to /Users/irenehsu/nltk_data...\n",
      "[nltk_data]   Package punkt is already up-to-date!\n"
     ]
    },
    {
     "data": {
      "text/html": [
       "<style>#sk-container-id-1 {color: black;}#sk-container-id-1 pre{padding: 0;}#sk-container-id-1 div.sk-toggleable {background-color: white;}#sk-container-id-1 label.sk-toggleable__label {cursor: pointer;display: block;width: 100%;margin-bottom: 0;padding: 0.3em;box-sizing: border-box;text-align: center;}#sk-container-id-1 label.sk-toggleable__label-arrow:before {content: \"▸\";float: left;margin-right: 0.25em;color: #696969;}#sk-container-id-1 label.sk-toggleable__label-arrow:hover:before {color: black;}#sk-container-id-1 div.sk-estimator:hover label.sk-toggleable__label-arrow:before {color: black;}#sk-container-id-1 div.sk-toggleable__content {max-height: 0;max-width: 0;overflow: hidden;text-align: left;background-color: #f0f8ff;}#sk-container-id-1 div.sk-toggleable__content pre {margin: 0.2em;color: black;border-radius: 0.25em;background-color: #f0f8ff;}#sk-container-id-1 input.sk-toggleable__control:checked~div.sk-toggleable__content {max-height: 200px;max-width: 100%;overflow: auto;}#sk-container-id-1 input.sk-toggleable__control:checked~label.sk-toggleable__label-arrow:before {content: \"▾\";}#sk-container-id-1 div.sk-estimator input.sk-toggleable__control:checked~label.sk-toggleable__label {background-color: #d4ebff;}#sk-container-id-1 div.sk-label input.sk-toggleable__control:checked~label.sk-toggleable__label {background-color: #d4ebff;}#sk-container-id-1 input.sk-hidden--visually {border: 0;clip: rect(1px 1px 1px 1px);clip: rect(1px, 1px, 1px, 1px);height: 1px;margin: -1px;overflow: hidden;padding: 0;position: absolute;width: 1px;}#sk-container-id-1 div.sk-estimator {font-family: monospace;background-color: #f0f8ff;border: 1px dotted black;border-radius: 0.25em;box-sizing: border-box;margin-bottom: 0.5em;}#sk-container-id-1 div.sk-estimator:hover {background-color: #d4ebff;}#sk-container-id-1 div.sk-parallel-item::after {content: \"\";width: 100%;border-bottom: 1px solid gray;flex-grow: 1;}#sk-container-id-1 div.sk-label:hover label.sk-toggleable__label {background-color: #d4ebff;}#sk-container-id-1 div.sk-serial::before {content: \"\";position: absolute;border-left: 1px solid gray;box-sizing: border-box;top: 0;bottom: 0;left: 50%;z-index: 0;}#sk-container-id-1 div.sk-serial {display: flex;flex-direction: column;align-items: center;background-color: white;padding-right: 0.2em;padding-left: 0.2em;position: relative;}#sk-container-id-1 div.sk-item {position: relative;z-index: 1;}#sk-container-id-1 div.sk-parallel {display: flex;align-items: stretch;justify-content: center;background-color: white;position: relative;}#sk-container-id-1 div.sk-item::before, #sk-container-id-1 div.sk-parallel-item::before {content: \"\";position: absolute;border-left: 1px solid gray;box-sizing: border-box;top: 0;bottom: 0;left: 50%;z-index: -1;}#sk-container-id-1 div.sk-parallel-item {display: flex;flex-direction: column;z-index: 1;position: relative;background-color: white;}#sk-container-id-1 div.sk-parallel-item:first-child::after {align-self: flex-end;width: 50%;}#sk-container-id-1 div.sk-parallel-item:last-child::after {align-self: flex-start;width: 50%;}#sk-container-id-1 div.sk-parallel-item:only-child::after {width: 0;}#sk-container-id-1 div.sk-dashed-wrapped {border: 1px dashed gray;margin: 0 0.4em 0.5em 0.4em;box-sizing: border-box;padding-bottom: 0.4em;background-color: white;}#sk-container-id-1 div.sk-label label {font-family: monospace;font-weight: bold;display: inline-block;line-height: 1.2em;}#sk-container-id-1 div.sk-label-container {text-align: center;}#sk-container-id-1 div.sk-container {/* jupyter's `normalize.less` sets `[hidden] { display: none; }` but bootstrap.min.css set `[hidden] { display: none !important; }` so we also need the `!important` here to be able to override the default hidden behavior on the sphinx rendered scikit-learn.org. See: https://github.com/scikit-learn/scikit-learn/issues/21755 */display: inline-block !important;position: relative;}#sk-container-id-1 div.sk-text-repr-fallback {display: none;}</style><div id=\"sk-container-id-1\" class=\"sk-top-container\"><div class=\"sk-text-repr-fallback\"><pre>CountVectorizer(max_features=500,\n",
       "                tokenizer=&lt;function word_tokenize at 0x12f633b00&gt;)</pre><b>In a Jupyter environment, please rerun this cell to show the HTML representation or trust the notebook. <br />On GitHub, the HTML representation is unable to render, please try loading this page with nbviewer.org.</b></div><div class=\"sk-container\" hidden><div class=\"sk-item\"><div class=\"sk-estimator sk-toggleable\"><input class=\"sk-toggleable__control sk-hidden--visually\" id=\"sk-estimator-id-1\" type=\"checkbox\" checked><label for=\"sk-estimator-id-1\" class=\"sk-toggleable__label sk-toggleable__label-arrow\">CountVectorizer</label><div class=\"sk-toggleable__content\"><pre>CountVectorizer(max_features=500,\n",
       "                tokenizer=&lt;function word_tokenize at 0x12f633b00&gt;)</pre></div></div></div></div></div>"
      ],
      "text/plain": [
       "CountVectorizer(max_features=500,\n",
       "                tokenizer=<function word_tokenize at 0x12f633b00>)"
      ]
     },
     "execution_count": 6,
     "metadata": {},
     "output_type": "execute_result"
    }
   ],
   "source": [
    "import nltk\n",
    "nltk.download('punkt')\n",
    "\n",
    "# build analyzers (bag-of-words)\n",
    "BOW_500 = CountVectorizer(max_features=500, tokenizer=nltk.word_tokenize) \n",
    "\n",
    "# apply analyzer to training data\n",
    "BOW_500.fit(train_df['text'])"
   ]
  },
  {
   "cell_type": "code",
   "execution_count": 7,
   "metadata": {},
   "outputs": [
    {
     "data": {
      "text/plain": [
       "array(['joy', 'fear', 'anger', 'sadness', 'sadness', 'joy', 'joy', 'fear',\n",
       "       'sadness', 'sadness'], dtype='<U7')"
      ]
     },
     "execution_count": 7,
     "metadata": {},
     "output_type": "execute_result"
    }
   ],
   "source": [
    "# Answer here\n",
    "from sklearn.naive_bayes import MultinomialNB\n",
    "\n",
    "X_train = BOW_500.transform(train_df['text'])\n",
    "y_train = train_df['emotion']\n",
    "\n",
    "X_test = BOW_500.transform(test_df['text'])\n",
    "y_test = test_df['emotion']\n",
    "\n",
    "NB_model = MultinomialNB()\n",
    "NB_model.fit(X_train, y_train)\n",
    "\n",
    "y_train_pred = NB_model.predict(X_train)\n",
    "y_test_pred = NB_model.predict(X_test)\n",
    "\n",
    "y_test_pred[:10]"
   ]
  },
  {
   "cell_type": "code",
   "execution_count": 8,
   "metadata": {},
   "outputs": [
    {
     "name": "stdout",
     "output_type": "stream",
     "text": [
      "training accuracy: 0.79\n",
      "testing accuracy: 0.7\n"
     ]
    }
   ],
   "source": [
    "from sklearn.metrics import accuracy_score\n",
    "\n",
    "acc_train = accuracy_score(y_true=y_train, y_pred=y_train_pred)\n",
    "acc_test = accuracy_score(y_true=y_test, y_pred=y_test_pred)\n",
    "\n",
    "print('training accuracy: {}'.format(round(acc_train, 2)))\n",
    "print('testing accuracy: {}'.format(round(acc_test, 2)))"
   ]
  },
  {
   "cell_type": "code",
   "execution_count": 9,
   "metadata": {},
   "outputs": [
    {
     "name": "stdout",
     "output_type": "stream",
     "text": [
      "              precision    recall  f1-score   support\n",
      "\n",
      "       anger       0.63      0.65      0.64        84\n",
      "        fear       0.73      0.77      0.75       110\n",
      "         joy       0.78      0.71      0.74        79\n",
      "     sadness       0.64      0.62      0.63        74\n",
      "\n",
      "    accuracy                           0.70       347\n",
      "   macro avg       0.70      0.69      0.69       347\n",
      "weighted avg       0.70      0.70      0.70       347\n",
      "\n"
     ]
    }
   ],
   "source": [
    "from sklearn.metrics import classification_report\n",
    "\n",
    "print(classification_report(y_true=y_test, y_pred=y_test_pred))"
   ]
  },
  {
   "cell_type": "code",
   "execution_count": 10,
   "metadata": {},
   "outputs": [
    {
     "name": "stdout",
     "output_type": "stream",
     "text": [
      "[[55 15  5  9]\n",
      " [ 9 85  5 11]\n",
      " [11  6 56  6]\n",
      " [12 10  6 46]]\n"
     ]
    }
   ],
   "source": [
    "from sklearn.metrics import confusion_matrix\n",
    "\n",
    "cm = confusion_matrix(y_true=y_test, y_pred=y_test_pred) \n",
    "print(cm)"
   ]
  },
  {
   "cell_type": "code",
   "execution_count": 11,
   "metadata": {},
   "outputs": [],
   "source": [
    "import matplotlib.pyplot as plt\n",
    "import seaborn as sns\n",
    "import numpy as np\n",
    "import itertools\n",
    "\n",
    "def plot_confusion_matrix(cm, classes, title='Confusion matrix',\n",
    "                          cmap=sns.cubehelix_palette(as_cmap=True)):\n",
    "    \"\"\"\n",
    "    This function is modified from: \n",
    "    http://scikit-learn.org/stable/auto_examples/model_selection/plot_confusion_matrix.html\n",
    "    \"\"\"\n",
    "    classes.sort()\n",
    "    tick_marks = np.arange(len(classes))    \n",
    "    \n",
    "    fig, ax = plt.subplots(figsize=(5,5))\n",
    "    im = ax.imshow(cm, interpolation='nearest', cmap=cmap)\n",
    "    ax.figure.colorbar(im, ax=ax)\n",
    "    ax.set(xticks=np.arange(cm.shape[1]),\n",
    "           yticks=np.arange(cm.shape[0]),\n",
    "           xticklabels = classes,\n",
    "           yticklabels = classes,\n",
    "           title = title,\n",
    "           xlabel = 'Predicted label',\n",
    "           ylabel = 'True label')\n",
    "\n",
    "    fmt = 'd'\n",
    "    thresh = cm.max() / 2.\n",
    "    for i, j in itertools.product(range(cm.shape[0]), range(cm.shape[1])):\n",
    "        plt.text(j, i, format(cm[i, j], fmt), horizontalalignment=\"center\", color=\"white\" if cm[i, j] > thresh else \"black\")\n",
    "    ylim_top = len(classes) - 0.5\n",
    "    plt.ylim([ylim_top, -.5])\n",
    "    plt.tight_layout()\n",
    "    plt.show()"
   ]
  },
  {
   "cell_type": "code",
   "execution_count": 12,
   "metadata": {},
   "outputs": [
    {
     "data": {
      "image/png": "[encoded data removed]",
      "text/plain": [
       "<Figure size 500x500 with 2 Axes>"
      ]
     },
     "metadata": {},
     "output_type": "display_data"
    }
   ],
   "source": [
    "my_tags = ['anger', 'fear', 'joy', 'sadness']\n",
    "plot_confusion_matrix(cm, classes=my_tags, title='Confusion matrix')"
   ]
  },
  {
   "cell_type": "markdown",
   "metadata": {},
   "source": [
    "---\n",
    "### ** >>> Exercise 5 (Take home): **  \n",
    "\n",
    "How do the results from the Naive Bayes model and the Decision Tree model compare? How do you interpret these differences? Use the theoretical background covered in class to try and explain these differences."
   ]
  },
  {
   "cell_type": "markdown",
   "metadata": {},
   "source": [
    "### Answer here\n",
    "The Decision Tree model has a significantly higher training accuracy compared to the Naive Bayes model. This suggests that the Decision Tree model fits the training data better, capturing more intricate patterns and details present in the training set.\n",
    "\n",
    "The Decision Tree model's high training accuracy might be a result of overfitting, where it captures noise and specificities in the training data that do not generalize well to new data. This is reflected in the lower testing accuracy.\n",
    "\n",
    "The Naive Bayes model performs slightly better in terms of testing accuracy. This indicates that, despite the Decision Tree model's superior fit to the training data, it may not generalize as well to new, unseen data as the Naive Bayes model does.\n",
    "\n",
    "The Naive Bayes model, being a simpler probabilistic model, may generalize better to new data, leading to a slightly better testing accuracy despite a lower training accuracy."
   ]
  },
  {
   "cell_type": "markdown",
   "metadata": {},
   "source": [
    "---\n",
    "### ** >>> Exercise 6 (Take home): **  \n",
    "\n",
    "Plot the Training and Validation Accuracy and Loss (different plots), just like the images below.(Note: the pictures below are an example from a different model). How to interpret the graphs you got? How are they related to the concept of overfitting/underfitting covered in class?\n",
    "<table><tr>\n",
    "    <td><img src=\"pics/pic3.png\" style=\"width: 300px;\"/> </td>\n",
    "    <td><img src=\"pics/pic4.png\" style=\"width: 300px;\"/> </td>\n",
    "</tr></table>"
   ]
  },
  {
   "cell_type": "code",
   "execution_count": 13,
   "metadata": {},
   "outputs": [
    {
     "data": {
      "text/html": [
       "<div>\n",
       "<style scoped>\n",
       "    .dataframe tbody tr th:only-of-type {\n",
       "        vertical-align: middle;\n",
       "    }\n",
       "\n",
       "    .dataframe tbody tr th {\n",
       "        vertical-align: top;\n",
       "    }\n",
       "\n",
       "    .dataframe thead th {\n",
       "        text-align: right;\n",
       "    }\n",
       "</style>\n",
       "<table border=\"1\" class=\"dataframe\">\n",
       "  <thead>\n",
       "    <tr style=\"text-align: right;\">\n",
       "      <th></th>\n",
       "      <th>epoch</th>\n",
       "      <th>accuracy</th>\n",
       "      <th>loss</th>\n",
       "      <th>val_accuracy</th>\n",
       "      <th>val_loss</th>\n",
       "    </tr>\n",
       "  </thead>\n",
       "  <tbody>\n",
       "    <tr>\n",
       "      <th>0</th>\n",
       "      <td>0</td>\n",
       "      <td>0.371713</td>\n",
       "      <td>1.329149</td>\n",
       "      <td>0.400576</td>\n",
       "      <td>1.293040</td>\n",
       "    </tr>\n",
       "    <tr>\n",
       "      <th>1</th>\n",
       "      <td>1</td>\n",
       "      <td>0.649045</td>\n",
       "      <td>0.969612</td>\n",
       "      <td>0.682997</td>\n",
       "      <td>0.909551</td>\n",
       "    </tr>\n",
       "    <tr>\n",
       "      <th>2</th>\n",
       "      <td>2</td>\n",
       "      <td>0.807639</td>\n",
       "      <td>0.570258</td>\n",
       "      <td>0.697406</td>\n",
       "      <td>0.829017</td>\n",
       "    </tr>\n",
       "    <tr>\n",
       "      <th>3</th>\n",
       "      <td>3</td>\n",
       "      <td>0.846111</td>\n",
       "      <td>0.413477</td>\n",
       "      <td>0.708934</td>\n",
       "      <td>0.782276</td>\n",
       "    </tr>\n",
       "    <tr>\n",
       "      <th>4</th>\n",
       "      <td>4</td>\n",
       "      <td>0.877387</td>\n",
       "      <td>0.331953</td>\n",
       "      <td>0.682997</td>\n",
       "      <td>0.830274</td>\n",
       "    </tr>\n",
       "    <tr>\n",
       "      <th>5</th>\n",
       "      <td>5</td>\n",
       "      <td>0.911431</td>\n",
       "      <td>0.268723</td>\n",
       "      <td>0.688761</td>\n",
       "      <td>0.839400</td>\n",
       "    </tr>\n",
       "    <tr>\n",
       "      <th>6</th>\n",
       "      <td>6</td>\n",
       "      <td>0.922225</td>\n",
       "      <td>0.225805</td>\n",
       "      <td>0.682997</td>\n",
       "      <td>0.896804</td>\n",
       "    </tr>\n",
       "    <tr>\n",
       "      <th>7</th>\n",
       "      <td>7</td>\n",
       "      <td>0.938002</td>\n",
       "      <td>0.192736</td>\n",
       "      <td>0.680115</td>\n",
       "      <td>0.943662</td>\n",
       "    </tr>\n",
       "    <tr>\n",
       "      <th>8</th>\n",
       "      <td>8</td>\n",
       "      <td>0.948796</td>\n",
       "      <td>0.157618</td>\n",
       "      <td>0.682997</td>\n",
       "      <td>1.000171</td>\n",
       "    </tr>\n",
       "    <tr>\n",
       "      <th>9</th>\n",
       "      <td>9</td>\n",
       "      <td>0.956269</td>\n",
       "      <td>0.141744</td>\n",
       "      <td>0.671470</td>\n",
       "      <td>1.074599</td>\n",
       "    </tr>\n",
       "    <tr>\n",
       "      <th>10</th>\n",
       "      <td>10</td>\n",
       "      <td>0.963742</td>\n",
       "      <td>0.127031</td>\n",
       "      <td>0.688761</td>\n",
       "      <td>1.074075</td>\n",
       "    </tr>\n",
       "    <tr>\n",
       "      <th>11</th>\n",
       "      <td>11</td>\n",
       "      <td>0.966510</td>\n",
       "      <td>0.115269</td>\n",
       "      <td>0.682997</td>\n",
       "      <td>1.124062</td>\n",
       "    </tr>\n",
       "    <tr>\n",
       "      <th>12</th>\n",
       "      <td>12</td>\n",
       "      <td>0.970108</td>\n",
       "      <td>0.099211</td>\n",
       "      <td>0.674352</td>\n",
       "      <td>1.171776</td>\n",
       "    </tr>\n",
       "    <tr>\n",
       "      <th>13</th>\n",
       "      <td>13</td>\n",
       "      <td>0.969554</td>\n",
       "      <td>0.098044</td>\n",
       "      <td>0.697406</td>\n",
       "      <td>1.183730</td>\n",
       "    </tr>\n",
       "    <tr>\n",
       "      <th>14</th>\n",
       "      <td>14</td>\n",
       "      <td>0.972876</td>\n",
       "      <td>0.091053</td>\n",
       "      <td>0.671470</td>\n",
       "      <td>1.252461</td>\n",
       "    </tr>\n",
       "    <tr>\n",
       "      <th>15</th>\n",
       "      <td>15</td>\n",
       "      <td>0.973153</td>\n",
       "      <td>0.087809</td>\n",
       "      <td>0.671470</td>\n",
       "      <td>1.261645</td>\n",
       "    </tr>\n",
       "    <tr>\n",
       "      <th>16</th>\n",
       "      <td>16</td>\n",
       "      <td>0.974260</td>\n",
       "      <td>0.079314</td>\n",
       "      <td>0.674352</td>\n",
       "      <td>1.270487</td>\n",
       "    </tr>\n",
       "    <tr>\n",
       "      <th>17</th>\n",
       "      <td>17</td>\n",
       "      <td>0.975090</td>\n",
       "      <td>0.075526</td>\n",
       "      <td>0.680115</td>\n",
       "      <td>1.320746</td>\n",
       "    </tr>\n",
       "    <tr>\n",
       "      <th>18</th>\n",
       "      <td>18</td>\n",
       "      <td>0.977304</td>\n",
       "      <td>0.067015</td>\n",
       "      <td>0.685879</td>\n",
       "      <td>1.368541</td>\n",
       "    </tr>\n",
       "    <tr>\n",
       "      <th>19</th>\n",
       "      <td>19</td>\n",
       "      <td>0.974536</td>\n",
       "      <td>0.076818</td>\n",
       "      <td>0.665706</td>\n",
       "      <td>1.433952</td>\n",
       "    </tr>\n",
       "    <tr>\n",
       "      <th>20</th>\n",
       "      <td>20</td>\n",
       "      <td>0.975644</td>\n",
       "      <td>0.069422</td>\n",
       "      <td>0.677233</td>\n",
       "      <td>1.394341</td>\n",
       "    </tr>\n",
       "    <tr>\n",
       "      <th>21</th>\n",
       "      <td>21</td>\n",
       "      <td>0.977027</td>\n",
       "      <td>0.066997</td>\n",
       "      <td>0.677233</td>\n",
       "      <td>1.428023</td>\n",
       "    </tr>\n",
       "    <tr>\n",
       "      <th>22</th>\n",
       "      <td>22</td>\n",
       "      <td>0.978411</td>\n",
       "      <td>0.064116</td>\n",
       "      <td>0.688761</td>\n",
       "      <td>1.380066</td>\n",
       "    </tr>\n",
       "    <tr>\n",
       "      <th>23</th>\n",
       "      <td>23</td>\n",
       "      <td>0.976474</td>\n",
       "      <td>0.070467</td>\n",
       "      <td>0.668588</td>\n",
       "      <td>1.435891</td>\n",
       "    </tr>\n",
       "    <tr>\n",
       "      <th>24</th>\n",
       "      <td>24</td>\n",
       "      <td>0.978688</td>\n",
       "      <td>0.062006</td>\n",
       "      <td>0.668588</td>\n",
       "      <td>1.435815</td>\n",
       "    </tr>\n",
       "  </tbody>\n",
       "</table>\n",
       "</div>"
      ],
      "text/plain": [
       "    epoch  accuracy      loss  val_accuracy  val_loss\n",
       "0       0  0.371713  1.329149      0.400576  1.293040\n",
       "1       1  0.649045  0.969612      0.682997  0.909551\n",
       "2       2  0.807639  0.570258      0.697406  0.829017\n",
       "3       3  0.846111  0.413477      0.708934  0.782276\n",
       "4       4  0.877387  0.331953      0.682997  0.830274\n",
       "5       5  0.911431  0.268723      0.688761  0.839400\n",
       "6       6  0.922225  0.225805      0.682997  0.896804\n",
       "7       7  0.938002  0.192736      0.680115  0.943662\n",
       "8       8  0.948796  0.157618      0.682997  1.000171\n",
       "9       9  0.956269  0.141744      0.671470  1.074599\n",
       "10     10  0.963742  0.127031      0.688761  1.074075\n",
       "11     11  0.966510  0.115269      0.682997  1.124062\n",
       "12     12  0.970108  0.099211      0.674352  1.171776\n",
       "13     13  0.969554  0.098044      0.697406  1.183730\n",
       "14     14  0.972876  0.091053      0.671470  1.252461\n",
       "15     15  0.973153  0.087809      0.671470  1.261645\n",
       "16     16  0.974260  0.079314      0.674352  1.270487\n",
       "17     17  0.975090  0.075526      0.680115  1.320746\n",
       "18     18  0.977304  0.067015      0.685879  1.368541\n",
       "19     19  0.974536  0.076818      0.665706  1.433952\n",
       "20     20  0.975644  0.069422      0.677233  1.394341\n",
       "21     21  0.977027  0.066997      0.677233  1.428023\n",
       "22     22  0.978411  0.064116      0.688761  1.380066\n",
       "23     23  0.976474  0.070467      0.668588  1.435891\n",
       "24     24  0.978688  0.062006      0.668588  1.435815"
      ]
     },
     "execution_count": 13,
     "metadata": {},
     "output_type": "execute_result"
    }
   ],
   "source": [
    "training_log = pd.DataFrame()\n",
    "training_log = pd.read_csv(\"logs/training_log.csv\")\n",
    "training_log"
   ]
  },
  {
   "cell_type": "code",
   "execution_count": 14,
   "metadata": {},
   "outputs": [
    {
     "data": {
      "text/plain": [
       "<matplotlib.legend.Legend at 0x16c4fea50>"
      ]
     },
     "execution_count": 14,
     "metadata": {},
     "output_type": "execute_result"
    },
    {
     "data": {
      "image/png": "[encoded data removed]",
      "text/plain": [
       "<Figure size 1600x400 with 1 Axes>"
      ]
     },
     "metadata": {},
     "output_type": "display_data"
    }
   ],
   "source": [
    "# Training and Validation Accuracy\n",
    "\n",
    "plt.figure(figsize=(16, 4))\n",
    "plt.subplot(1, 2, 1)  # 1 row, 2 columns, 1st plot\n",
    "plt.plot(training_log['epoch'], training_log['accuracy'], label='Train Accuracy')\n",
    "plt.plot(training_log['epoch'], training_log['val_accuracy'], label='Val Accuracy')\n",
    "plt.title('Training Accuracy per epochs')\n",
    "plt.xlabel('Epochs')\n",
    "plt.ylabel('Accuracy')\n",
    "plt.legend()"
   ]
  },
  {
   "cell_type": "code",
   "execution_count": 15,
   "metadata": {},
   "outputs": [
    {
     "data": {
      "text/plain": [
       "<matplotlib.legend.Legend at 0x16c5f2510>"
      ]
     },
     "execution_count": 15,
     "metadata": {},
     "output_type": "execute_result"
    },
    {
     "data": {
      "image/png": "[encoded data removed]",
      "text/plain": [
       "<Figure size 1600x400 with 1 Axes>"
      ]
     },
     "metadata": {},
     "output_type": "display_data"
    }
   ],
   "source": [
    "# Training and Validation Loss\n",
    "\n",
    "plt.figure(figsize=(16, 4))\n",
    "plt.subplot(1, 2, 2)  # 1 row, 2 columns, 2nd plot\n",
    "plt.plot(training_log['epoch'], training_log['loss'], label='Train Loss')\n",
    "plt.plot(training_log['epoch'], training_log['val_loss'], label='Val Loss')\n",
    "plt.title('Training Loss per epochs')\n",
    "plt.xlabel('Epochs')\n",
    "plt.ylabel('Loss')\n",
    "plt.legend()"
   ]
  },
  {
   "cell_type": "markdown",
   "metadata": {},
   "source": [
    "---\n",
    "### ** >>> Exercise 7 (Take home): **  \n",
    "\n",
    "Now, we have the word vectors, but our input data is a sequence of words (or say sentence). \n",
    "How can we utilize these \"word\" vectors to represent the sentence data and train our model?\n"
   ]
  },
  {
   "cell_type": "markdown",
   "metadata": {},
   "source": [
    "### Answer here\n",
    "To generate a specific vector to represent the sequence of words (sentence), we can use the following methods:\n",
    "\n",
    "1.  Average Pooling:\n",
    "\n",
    "- Calculate the average of all word vectors in the sentence.\n",
    "\n",
    "- This is done by summing up all the word vectors and dividing by the number of words in the sentence.\n",
    "\n",
    "2.  Sum Pooling:\n",
    "\n",
    "- Similar to average pooling, but you take the sum of all word vectors instead of the average.\n",
    "\n",
    "3.  TF-IDF Weighted Average:\n",
    "\n",
    "- Weigh each word vector by its TF-IDF score before averaging.\n",
    "\n",
    "- This can help give more importance to words that are more informative in the context of the entire dataset."
   ]
  },
  {
   "cell_type": "markdown",
   "metadata": {},
   "source": [
    "---\n",
    "### ** >>> Exercise 8 (Take home): **  \n",
    "\n",
    "Generate a t-SNE visualization to show the 15 words most related to the words \"angry\", \"happy\", \"sad\", \"fear\" (60 words total)."
   ]
  },
  {
   "cell_type": "code",
   "execution_count": 17,
   "metadata": {},
   "outputs": [
    {
     "name": "stdout",
     "output_type": "stream",
     "text": [
      "load ok\n",
      "angry_words:  ['angry', 'irate', 'enraged', 'indignant', 'incensed', 'annoyed', 'agitated', 'frustrated', 'furious', 'unhappy', 'outraged', 'livid', 'irritated', 'exasperated', 'angrier', 'Angry']\n",
      "happy_words:  ['happy', 'glad', 'pleased', 'ecstatic', 'overjoyed', 'thrilled', 'satisfied', 'proud', 'delighted', 'disappointed', 'excited', 'happier', 'Said_Hirschbeck', 'elated', 'thankful', 'unhappy']\n",
      "sad_words:  ['sad', 'saddening', 'Sad', 'saddened', 'heartbreaking', 'disheartening', 'Meny_Friedman', 'parishioner_Pat_Patello', 'saddens_me', 'distressing', 'reminders_bobbing', 'Turkoman_Shiites', 'saddest', 'unfortunate', 'sorry', 'bittersweet']\n",
      "fear_words:  ['fear', 'fearful', 'fears', 'Fear', 'fearing', 'worry', 'dread', 'feared', 'anxiety', 'apprehension', 'afraid', 'worries', 'concern', 'distrust', 'worried', 'Fearful']\n",
      "\n",
      "target words: \n",
      "['angry', 'irate', 'enraged', 'indignant', 'incensed', 'annoyed', 'agitated', 'frustrated', 'furious', 'unhappy', 'outraged', 'livid', 'irritated', 'exasperated', 'angrier', 'Angry', 'happy', 'glad', 'pleased', 'ecstatic', 'overjoyed', 'thrilled', 'satisfied', 'proud', 'delighted', 'disappointed', 'excited', 'happier', 'Said_Hirschbeck', 'elated', 'thankful', 'unhappy', 'sad', 'saddening', 'Sad', 'saddened', 'heartbreaking', 'disheartening', 'Meny_Friedman', 'parishioner_Pat_Patello', 'saddens_me', 'distressing', 'reminders_bobbing', 'Turkoman_Shiites', 'saddest', 'unfortunate', 'sorry', 'bittersweet', 'fear', 'fearful', 'fears', 'Fear', 'fearing', 'worry', 'dread', 'feared', 'anxiety', 'apprehension', 'afraid', 'worries', 'concern', 'distrust', 'worried', 'Fearful']\n",
      "\n",
      "color list:\n",
      "['b', 'b', 'b', 'b', 'b', 'b', 'b', 'b', 'b', 'b', 'b', 'b', 'b', 'b', 'b', 'b', 'g', 'g', 'g', 'g', 'g', 'g', 'g', 'g', 'g', 'g', 'g', 'g', 'g', 'g', 'g', 'g', 'r', 'r', 'r', 'r', 'r', 'r', 'r', 'r', 'r', 'r', 'r', 'r', 'r', 'r', 'r', 'r', 'y', 'y', 'y', 'y', 'y', 'y', 'y', 'y', 'y', 'y', 'y', 'y', 'y', 'y', 'y', 'y']\n"
     ]
    }
   ],
   "source": [
    "# Answer here\n",
    "from sklearn.manifold import TSNE\n",
    "from gensim.models import KeyedVectors\n",
    "\n",
    "model_path = \"GoogleNews/GoogleNews-vectors-negative300.bin.gz\"\n",
    "w2v_google_model = KeyedVectors.load_word2vec_format(model_path, binary=True)\n",
    "print('load ok')\n",
    "\n",
    "word_list = ['angry', 'happy', 'sad', 'fear']\n",
    "\n",
    "topn = 15\n",
    "angry_words = ['angry'] + [word_ for word_, sim_ in w2v_google_model.most_similar('angry', topn=topn)]\n",
    "happy_words = ['happy'] + [word_ for word_, sim_ in w2v_google_model.most_similar('happy', topn=topn)]        \n",
    "sad_words = ['sad'] + [word_ for word_, sim_ in w2v_google_model.most_similar('sad', topn=topn)]        \n",
    "fear_words = ['fear'] + [word_ for word_, sim_ in w2v_google_model.most_similar('fear', topn=topn)]        \n",
    "\n",
    "print('angry_words: ', angry_words)\n",
    "print('happy_words: ', happy_words)\n",
    "print('sad_words: ', sad_words)\n",
    "print('fear_words: ', fear_words)\n",
    "\n",
    "target_words = angry_words + happy_words + sad_words + fear_words\n",
    "print('\\ntarget words: ')\n",
    "print(target_words)\n",
    "\n",
    "print('\\ncolor list:')\n",
    "cn = topn + 1\n",
    "color = ['b'] * cn + ['g'] * cn + ['r'] * cn + ['y'] * cn\n",
    "print(color)\n"
   ]
  },
  {
   "cell_type": "code",
   "execution_count": 18,
   "metadata": {},
   "outputs": [
    {
     "data": {
      "image/png": "[encoded data removed]",
      "text/plain": [
       "<Figure size 862.5x862.5 with 1 Axes>"
      ]
     },
     "metadata": {},
     "output_type": "display_data"
    }
   ],
   "source": [
    "## w2v model\n",
    "model = w2v_google_model\n",
    "\n",
    "## prepare training word vectors\n",
    "size = 200\n",
    "target_size = len(target_words)\n",
    "all_word = list(model.index_to_key)\n",
    "word_train = target_words + all_word[:size]\n",
    "X_train = model[word_train]\n",
    "\n",
    "## t-SNE model\n",
    "tsne = TSNE(n_components=2, metric='cosine', random_state=28)\n",
    "\n",
    "## training\n",
    "X_tsne = tsne.fit_transform(X_train)\n",
    "\n",
    "## plot the result\n",
    "plt.figure(figsize=(7.5, 7.5), dpi=115)\n",
    "plt.scatter(X_tsne[:target_size, 0], X_tsne[:target_size, 1], c=color)\n",
    "for label, x, y in zip(target_words, X_tsne[:target_size, 0], X_tsne[:target_size, 1]):\n",
    "    plt.annotate(label, xy=(x,y), xytext=(0,0),  textcoords='offset points')\n",
    "plt.show()"
   ]
  },
  {
   "cell_type": "markdown",
   "metadata": {},
   "source": [
    "# Part 3"
   ]
  },
  {
   "cell_type": "markdown",
   "metadata": {},
   "source": [
    "## Data Preparation"
   ]
  },
  {
   "cell_type": "code",
   "execution_count": 1,
   "metadata": {},
   "outputs": [],
   "source": [
    "import pandas as pd\n",
    "import json"
   ]
  },
  {
   "cell_type": "code",
   "execution_count": 33,
   "metadata": {},
   "outputs": [
    {
     "data": {
      "text/html": [
       "<div>\n",
       "<style scoped>\n",
       "    .dataframe tbody tr th:only-of-type {\n",
       "        vertical-align: middle;\n",
       "    }\n",
       "\n",
       "    .dataframe tbody tr th {\n",
       "        vertical-align: top;\n",
       "    }\n",
       "\n",
       "    .dataframe thead th {\n",
       "        text-align: right;\n",
       "    }\n",
       "</style>\n",
       "<table border=\"1\" class=\"dataframe\">\n",
       "  <thead>\n",
       "    <tr style=\"text-align: right;\">\n",
       "      <th></th>\n",
       "      <th>tweet_id</th>\n",
       "      <th>emotion</th>\n",
       "      <th>identification</th>\n",
       "    </tr>\n",
       "  </thead>\n",
       "  <tbody>\n",
       "    <tr>\n",
       "      <th>0</th>\n",
       "      <td>0x3140b1</td>\n",
       "      <td>sadness</td>\n",
       "      <td>train</td>\n",
       "    </tr>\n",
       "    <tr>\n",
       "      <th>1</th>\n",
       "      <td>0x368b73</td>\n",
       "      <td>disgust</td>\n",
       "      <td>train</td>\n",
       "    </tr>\n",
       "    <tr>\n",
       "      <th>2</th>\n",
       "      <td>0x296183</td>\n",
       "      <td>anticipation</td>\n",
       "      <td>train</td>\n",
       "    </tr>\n",
       "    <tr>\n",
       "      <th>3</th>\n",
       "      <td>0x2bd6e1</td>\n",
       "      <td>joy</td>\n",
       "      <td>train</td>\n",
       "    </tr>\n",
       "    <tr>\n",
       "      <th>4</th>\n",
       "      <td>0x2ee1dd</td>\n",
       "      <td>anticipation</td>\n",
       "      <td>train</td>\n",
       "    </tr>\n",
       "    <tr>\n",
       "      <th>5</th>\n",
       "      <td>0x34cd80</td>\n",
       "      <td>joy</td>\n",
       "      <td>train</td>\n",
       "    </tr>\n",
       "    <tr>\n",
       "      <th>6</th>\n",
       "      <td>0x33f099</td>\n",
       "      <td>sadness</td>\n",
       "      <td>train</td>\n",
       "    </tr>\n",
       "    <tr>\n",
       "      <th>7</th>\n",
       "      <td>0x2ae7b7</td>\n",
       "      <td>sadness</td>\n",
       "      <td>train</td>\n",
       "    </tr>\n",
       "    <tr>\n",
       "      <th>8</th>\n",
       "      <td>0x2408d4</td>\n",
       "      <td>trust</td>\n",
       "      <td>train</td>\n",
       "    </tr>\n",
       "    <tr>\n",
       "      <th>9</th>\n",
       "      <td>0x2b193b</td>\n",
       "      <td>sadness</td>\n",
       "      <td>train</td>\n",
       "    </tr>\n",
       "  </tbody>\n",
       "</table>\n",
       "</div>"
      ],
      "text/plain": [
       "   tweet_id       emotion identification\n",
       "0  0x3140b1       sadness          train\n",
       "1  0x368b73       disgust          train\n",
       "2  0x296183  anticipation          train\n",
       "3  0x2bd6e1           joy          train\n",
       "4  0x2ee1dd  anticipation          train\n",
       "5  0x34cd80           joy          train\n",
       "6  0x33f099       sadness          train\n",
       "7  0x2ae7b7       sadness          train\n",
       "8  0x2408d4         trust          train\n",
       "9  0x2b193b       sadness          train"
      ]
     },
     "execution_count": 33,
     "metadata": {},
     "output_type": "execute_result"
    }
   ],
   "source": [
    "# read CSV file\n",
    "csv1 = pd.read_csv('Kaggle Competition/emotion.csv')\n",
    "csv2 = pd.read_csv('Kaggle Competition/data_identification.csv')\n",
    "\n",
    "# merge CSV files\n",
    "csv_data= pd.merge(csv1, csv2, on='tweet_id', how='outer')\n",
    "csv_data.head(10)"
   ]
  },
  {
   "cell_type": "code",
   "execution_count": 34,
   "metadata": {},
   "outputs": [
    {
     "data": {
      "text/html": [
       "<div>\n",
       "<style scoped>\n",
       "    .dataframe tbody tr th:only-of-type {\n",
       "        vertical-align: middle;\n",
       "    }\n",
       "\n",
       "    .dataframe tbody tr th {\n",
       "        vertical-align: top;\n",
       "    }\n",
       "\n",
       "    .dataframe thead th {\n",
       "        text-align: right;\n",
       "    }\n",
       "</style>\n",
       "<table border=\"1\" class=\"dataframe\">\n",
       "  <thead>\n",
       "    <tr style=\"text-align: right;\">\n",
       "      <th></th>\n",
       "      <th>tweet_id</th>\n",
       "      <th>hashtags</th>\n",
       "      <th>text</th>\n",
       "      <th>score</th>\n",
       "      <th>crawled_date</th>\n",
       "    </tr>\n",
       "  </thead>\n",
       "  <tbody>\n",
       "    <tr>\n",
       "      <th>0</th>\n",
       "      <td>0x376b20</td>\n",
       "      <td>[Snapchat]</td>\n",
       "      <td>People who post \"add me on #Snapchat\" must be ...</td>\n",
       "      <td>391</td>\n",
       "      <td>2015-05-23 11:42:47</td>\n",
       "    </tr>\n",
       "    <tr>\n",
       "      <th>1</th>\n",
       "      <td>0x2d5350</td>\n",
       "      <td>[freepress, TrumpLegacy, CNN]</td>\n",
       "      <td>@brianklaas As we see, Trump is dangerous to #...</td>\n",
       "      <td>433</td>\n",
       "      <td>2016-01-28 04:52:09</td>\n",
       "    </tr>\n",
       "    <tr>\n",
       "      <th>2</th>\n",
       "      <td>0x28b412</td>\n",
       "      <td>[bibleverse]</td>\n",
       "      <td>Confident of your obedience, I write to you, k...</td>\n",
       "      <td>232</td>\n",
       "      <td>2017-12-25 04:39:20</td>\n",
       "    </tr>\n",
       "    <tr>\n",
       "      <th>3</th>\n",
       "      <td>0x1cd5b0</td>\n",
       "      <td>[]</td>\n",
       "      <td>Now ISSA is stalking Tasha 😂😂😂 &lt;LH&gt;</td>\n",
       "      <td>376</td>\n",
       "      <td>2016-01-24 23:53:05</td>\n",
       "    </tr>\n",
       "    <tr>\n",
       "      <th>4</th>\n",
       "      <td>0x2de201</td>\n",
       "      <td>[]</td>\n",
       "      <td>\"Trust is not the same as faith. A friend is s...</td>\n",
       "      <td>989</td>\n",
       "      <td>2016-01-08 17:18:59</td>\n",
       "    </tr>\n",
       "    <tr>\n",
       "      <th>5</th>\n",
       "      <td>0x1d755c</td>\n",
       "      <td>[authentic, LaughOutLoud]</td>\n",
       "      <td>@RISKshow @TheKevinAllison Thx for the BEST TI...</td>\n",
       "      <td>120</td>\n",
       "      <td>2015-06-11 04:44:05</td>\n",
       "    </tr>\n",
       "    <tr>\n",
       "      <th>6</th>\n",
       "      <td>0x2c91a8</td>\n",
       "      <td>[]</td>\n",
       "      <td>Still waiting on those supplies Liscus. &lt;LH&gt;</td>\n",
       "      <td>1021</td>\n",
       "      <td>2015-08-18 02:30:07</td>\n",
       "    </tr>\n",
       "    <tr>\n",
       "      <th>7</th>\n",
       "      <td>0x368e95</td>\n",
       "      <td>[]</td>\n",
       "      <td>Love knows no gender. 😢😭 &lt;LH&gt;</td>\n",
       "      <td>481</td>\n",
       "      <td>2015-08-20 14:31:27</td>\n",
       "    </tr>\n",
       "    <tr>\n",
       "      <th>8</th>\n",
       "      <td>0x249c0c</td>\n",
       "      <td>[LeagueCup]</td>\n",
       "      <td>@DStvNgCare @DStvNg More highlights are being ...</td>\n",
       "      <td>827</td>\n",
       "      <td>2016-04-18 13:01:02</td>\n",
       "    </tr>\n",
       "    <tr>\n",
       "      <th>9</th>\n",
       "      <td>0x218443</td>\n",
       "      <td>[materialism, money, possessions]</td>\n",
       "      <td>When do you have enough ? When are you satisfi...</td>\n",
       "      <td>66</td>\n",
       "      <td>2015-09-09 09:22:55</td>\n",
       "    </tr>\n",
       "  </tbody>\n",
       "</table>\n",
       "</div>"
      ],
      "text/plain": [
       "   tweet_id                           hashtags  \\\n",
       "0  0x376b20                         [Snapchat]   \n",
       "1  0x2d5350      [freepress, TrumpLegacy, CNN]   \n",
       "2  0x28b412                       [bibleverse]   \n",
       "3  0x1cd5b0                                 []   \n",
       "4  0x2de201                                 []   \n",
       "5  0x1d755c          [authentic, LaughOutLoud]   \n",
       "6  0x2c91a8                                 []   \n",
       "7  0x368e95                                 []   \n",
       "8  0x249c0c                        [LeagueCup]   \n",
       "9  0x218443  [materialism, money, possessions]   \n",
       "\n",
       "                                                text  score  \\\n",
       "0  People who post \"add me on #Snapchat\" must be ...    391   \n",
       "1  @brianklaas As we see, Trump is dangerous to #...    433   \n",
       "2  Confident of your obedience, I write to you, k...    232   \n",
       "3                Now ISSA is stalking Tasha 😂😂😂 <LH>    376   \n",
       "4  \"Trust is not the same as faith. A friend is s...    989   \n",
       "5  @RISKshow @TheKevinAllison Thx for the BEST TI...    120   \n",
       "6       Still waiting on those supplies Liscus. <LH>   1021   \n",
       "7                      Love knows no gender. 😢😭 <LH>    481   \n",
       "8  @DStvNgCare @DStvNg More highlights are being ...    827   \n",
       "9  When do you have enough ? When are you satisfi...     66   \n",
       "\n",
       "          crawled_date  \n",
       "0  2015-05-23 11:42:47  \n",
       "1  2016-01-28 04:52:09  \n",
       "2  2017-12-25 04:39:20  \n",
       "3  2016-01-24 23:53:05  \n",
       "4  2016-01-08 17:18:59  \n",
       "5  2015-06-11 04:44:05  \n",
       "6  2015-08-18 02:30:07  \n",
       "7  2015-08-20 14:31:27  \n",
       "8  2016-04-18 13:01:02  \n",
       "9  2015-09-09 09:22:55  "
      ]
     },
     "execution_count": 34,
     "metadata": {},
     "output_type": "execute_result"
    }
   ],
   "source": [
    "# read JSON file\n",
    "data = []\n",
    "with open('Kaggle Competition/tweets_DM.json', 'r', encoding='utf-8') as file:\n",
    "    for line in file:\n",
    "        record = json.loads(line)\n",
    "        data.append(record)\n",
    "\n",
    "# extract columns in JSON file\n",
    "extracted_data = []\n",
    "for record in data:\n",
    "    score = record[\"_score\"]\n",
    "    tweet_info = record[\"_source\"][\"tweet\"]\n",
    "    tweet_id = tweet_info[\"tweet_id\"]\n",
    "    hashtags = tweet_info[\"hashtags\"]\n",
    "    text = tweet_info[\"text\"]\n",
    "    crawled_date = record[\"_crawldate\"]\n",
    "    \n",
    "    # store data into a dictionary\n",
    "    extracted_data.append({\n",
    "        \"tweet_id\": tweet_id,\n",
    "        \"hashtags\": hashtags,\n",
    "        \"text\": text,\n",
    "        \"score\": score,\n",
    "        \"crawled_date\": crawled_date\n",
    "    })\n",
    "\n",
    "# convert dictionary to dataframe\n",
    "json_data = pd.DataFrame(extracted_data)\n",
    "json_data.head(10)"
   ]
  },
  {
   "cell_type": "code",
   "execution_count": 35,
   "metadata": {},
   "outputs": [
    {
     "data": {
      "text/html": [
       "<div>\n",
       "<style scoped>\n",
       "    .dataframe tbody tr th:only-of-type {\n",
       "        vertical-align: middle;\n",
       "    }\n",
       "\n",
       "    .dataframe tbody tr th {\n",
       "        vertical-align: top;\n",
       "    }\n",
       "\n",
       "    .dataframe thead th {\n",
       "        text-align: right;\n",
       "    }\n",
       "</style>\n",
       "<table border=\"1\" class=\"dataframe\">\n",
       "  <thead>\n",
       "    <tr style=\"text-align: right;\">\n",
       "      <th></th>\n",
       "      <th>tweet_id</th>\n",
       "      <th>emotion</th>\n",
       "      <th>identification</th>\n",
       "      <th>hashtags</th>\n",
       "      <th>text</th>\n",
       "      <th>score</th>\n",
       "      <th>crawled_date</th>\n",
       "    </tr>\n",
       "  </thead>\n",
       "  <tbody>\n",
       "    <tr>\n",
       "      <th>0</th>\n",
       "      <td>0x3140b1</td>\n",
       "      <td>sadness</td>\n",
       "      <td>train</td>\n",
       "      <td>[]</td>\n",
       "      <td>Why Chester? &lt;LH&gt; &lt;LH&gt;</td>\n",
       "      <td>105</td>\n",
       "      <td>2017-07-09 20:48:41</td>\n",
       "    </tr>\n",
       "    <tr>\n",
       "      <th>1</th>\n",
       "      <td>0x368b73</td>\n",
       "      <td>disgust</td>\n",
       "      <td>train</td>\n",
       "      <td>[]</td>\n",
       "      <td>@JaredLeto you are the fish that Jonah.  Excep...</td>\n",
       "      <td>797</td>\n",
       "      <td>2015-08-09 06:58:43</td>\n",
       "    </tr>\n",
       "    <tr>\n",
       "      <th>2</th>\n",
       "      <td>0x296183</td>\n",
       "      <td>anticipation</td>\n",
       "      <td>train</td>\n",
       "      <td>[pouroutyourspirit]</td>\n",
       "      <td>He is coming back again and gonna come again q...</td>\n",
       "      <td>586</td>\n",
       "      <td>2017-11-02 01:44:41</td>\n",
       "    </tr>\n",
       "    <tr>\n",
       "      <th>3</th>\n",
       "      <td>0x2bd6e1</td>\n",
       "      <td>joy</td>\n",
       "      <td>train</td>\n",
       "      <td>[]</td>\n",
       "      <td>Dei is really such a beautiful person inside &amp;...</td>\n",
       "      <td>780</td>\n",
       "      <td>2015-03-11 18:40:46</td>\n",
       "    </tr>\n",
       "    <tr>\n",
       "      <th>4</th>\n",
       "      <td>0x2ee1dd</td>\n",
       "      <td>anticipation</td>\n",
       "      <td>train</td>\n",
       "      <td>[]</td>\n",
       "      <td>Expressive praise is also an expression of fai...</td>\n",
       "      <td>329</td>\n",
       "      <td>2017-05-04 03:51:25</td>\n",
       "    </tr>\n",
       "    <tr>\n",
       "      <th>5</th>\n",
       "      <td>0x34cd80</td>\n",
       "      <td>joy</td>\n",
       "      <td>train</td>\n",
       "      <td>[weather, LosAngeles, itsthelittlethings]</td>\n",
       "      <td>This #weather 💖 &lt;LH&gt; #LosAngeles #itsthelittle...</td>\n",
       "      <td>845</td>\n",
       "      <td>2015-02-25 06:40:17</td>\n",
       "    </tr>\n",
       "    <tr>\n",
       "      <th>6</th>\n",
       "      <td>0x33f099</td>\n",
       "      <td>sadness</td>\n",
       "      <td>train</td>\n",
       "      <td>[]</td>\n",
       "      <td>@Impeach_D_Trump @realDonaldTrump These people...</td>\n",
       "      <td>262</td>\n",
       "      <td>2017-02-18 23:51:08</td>\n",
       "    </tr>\n",
       "    <tr>\n",
       "      <th>7</th>\n",
       "      <td>0x2ae7b7</td>\n",
       "      <td>sadness</td>\n",
       "      <td>train</td>\n",
       "      <td>[ugh]</td>\n",
       "      <td>@BAMBl_twt mine too #ugh &lt;LH&gt;</td>\n",
       "      <td>254</td>\n",
       "      <td>2016-10-24 12:26:21</td>\n",
       "    </tr>\n",
       "    <tr>\n",
       "      <th>8</th>\n",
       "      <td>0x2408d4</td>\n",
       "      <td>trust</td>\n",
       "      <td>train</td>\n",
       "      <td>[grateful]</td>\n",
       "      <td>I have such an amazing mum, who for 3 wks has ...</td>\n",
       "      <td>733</td>\n",
       "      <td>2017-03-01 08:25:48</td>\n",
       "    </tr>\n",
       "    <tr>\n",
       "      <th>9</th>\n",
       "      <td>0x2b193b</td>\n",
       "      <td>sadness</td>\n",
       "      <td>train</td>\n",
       "      <td>[POTUS]</td>\n",
       "      <td>@SPECNewsROC Looks like Tillerson is stuck sen...</td>\n",
       "      <td>591</td>\n",
       "      <td>2017-11-16 09:45:31</td>\n",
       "    </tr>\n",
       "  </tbody>\n",
       "</table>\n",
       "</div>"
      ],
      "text/plain": [
       "   tweet_id       emotion identification  \\\n",
       "0  0x3140b1       sadness          train   \n",
       "1  0x368b73       disgust          train   \n",
       "2  0x296183  anticipation          train   \n",
       "3  0x2bd6e1           joy          train   \n",
       "4  0x2ee1dd  anticipation          train   \n",
       "5  0x34cd80           joy          train   \n",
       "6  0x33f099       sadness          train   \n",
       "7  0x2ae7b7       sadness          train   \n",
       "8  0x2408d4         trust          train   \n",
       "9  0x2b193b       sadness          train   \n",
       "\n",
       "                                    hashtags  \\\n",
       "0                                         []   \n",
       "1                                         []   \n",
       "2                        [pouroutyourspirit]   \n",
       "3                                         []   \n",
       "4                                         []   \n",
       "5  [weather, LosAngeles, itsthelittlethings]   \n",
       "6                                         []   \n",
       "7                                      [ugh]   \n",
       "8                                 [grateful]   \n",
       "9                                    [POTUS]   \n",
       "\n",
       "                                                text  score  \\\n",
       "0                             Why Chester? <LH> <LH>    105   \n",
       "1  @JaredLeto you are the fish that Jonah.  Excep...    797   \n",
       "2  He is coming back again and gonna come again q...    586   \n",
       "3  Dei is really such a beautiful person inside &...    780   \n",
       "4  Expressive praise is also an expression of fai...    329   \n",
       "5  This #weather 💖 <LH> #LosAngeles #itsthelittle...    845   \n",
       "6  @Impeach_D_Trump @realDonaldTrump These people...    262   \n",
       "7                      @BAMBl_twt mine too #ugh <LH>    254   \n",
       "8  I have such an amazing mum, who for 3 wks has ...    733   \n",
       "9  @SPECNewsROC Looks like Tillerson is stuck sen...    591   \n",
       "\n",
       "          crawled_date  \n",
       "0  2017-07-09 20:48:41  \n",
       "1  2015-08-09 06:58:43  \n",
       "2  2017-11-02 01:44:41  \n",
       "3  2015-03-11 18:40:46  \n",
       "4  2017-05-04 03:51:25  \n",
       "5  2015-02-25 06:40:17  \n",
       "6  2017-02-18 23:51:08  \n",
       "7  2016-10-24 12:26:21  \n",
       "8  2017-03-01 08:25:48  \n",
       "9  2017-11-16 09:45:31  "
      ]
     },
     "execution_count": 35,
     "metadata": {},
     "output_type": "execute_result"
    }
   ],
   "source": [
    "# merge all data\n",
    "all_data= pd.merge(csv_data, json_data, on='tweet_id', how='outer')\n",
    "all_data.head(10)"
   ]
  },
  {
   "cell_type": "code",
   "execution_count": 36,
   "metadata": {},
   "outputs": [
    {
     "data": {
      "text/html": [
       "<div>\n",
       "<style scoped>\n",
       "    .dataframe tbody tr th:only-of-type {\n",
       "        vertical-align: middle;\n",
       "    }\n",
       "\n",
       "    .dataframe tbody tr th {\n",
       "        vertical-align: top;\n",
       "    }\n",
       "\n",
       "    .dataframe thead th {\n",
       "        text-align: right;\n",
       "    }\n",
       "</style>\n",
       "<table border=\"1\" class=\"dataframe\">\n",
       "  <thead>\n",
       "    <tr style=\"text-align: right;\">\n",
       "      <th></th>\n",
       "      <th>tweet_id</th>\n",
       "      <th>emotion</th>\n",
       "      <th>identification</th>\n",
       "      <th>hashtags</th>\n",
       "      <th>text</th>\n",
       "      <th>score</th>\n",
       "      <th>crawled_date</th>\n",
       "    </tr>\n",
       "  </thead>\n",
       "  <tbody>\n",
       "    <tr>\n",
       "      <th>0</th>\n",
       "      <td>0x3140b1</td>\n",
       "      <td>sadness</td>\n",
       "      <td>train</td>\n",
       "      <td></td>\n",
       "      <td>Why Chester? &lt;LH&gt; &lt;LH&gt;</td>\n",
       "      <td>105</td>\n",
       "      <td>2017-07-09 20:48:41</td>\n",
       "    </tr>\n",
       "    <tr>\n",
       "      <th>1</th>\n",
       "      <td>0x368b73</td>\n",
       "      <td>disgust</td>\n",
       "      <td>train</td>\n",
       "      <td></td>\n",
       "      <td>@JaredLeto you are the fish that Jonah.  Excep...</td>\n",
       "      <td>797</td>\n",
       "      <td>2015-08-09 06:58:43</td>\n",
       "    </tr>\n",
       "    <tr>\n",
       "      <th>2</th>\n",
       "      <td>0x296183</td>\n",
       "      <td>anticipation</td>\n",
       "      <td>train</td>\n",
       "      <td>pouroutyourspirit</td>\n",
       "      <td>He is coming back again and gonna come again q...</td>\n",
       "      <td>586</td>\n",
       "      <td>2017-11-02 01:44:41</td>\n",
       "    </tr>\n",
       "    <tr>\n",
       "      <th>3</th>\n",
       "      <td>0x2bd6e1</td>\n",
       "      <td>joy</td>\n",
       "      <td>train</td>\n",
       "      <td></td>\n",
       "      <td>Dei is really such a beautiful person inside &amp;...</td>\n",
       "      <td>780</td>\n",
       "      <td>2015-03-11 18:40:46</td>\n",
       "    </tr>\n",
       "    <tr>\n",
       "      <th>4</th>\n",
       "      <td>0x2ee1dd</td>\n",
       "      <td>anticipation</td>\n",
       "      <td>train</td>\n",
       "      <td></td>\n",
       "      <td>Expressive praise is also an expression of fai...</td>\n",
       "      <td>329</td>\n",
       "      <td>2017-05-04 03:51:25</td>\n",
       "    </tr>\n",
       "    <tr>\n",
       "      <th>5</th>\n",
       "      <td>0x34cd80</td>\n",
       "      <td>joy</td>\n",
       "      <td>train</td>\n",
       "      <td>weather, LosAngeles, itsthelittlethings</td>\n",
       "      <td>This #weather 💖 &lt;LH&gt; #LosAngeles #itsthelittle...</td>\n",
       "      <td>845</td>\n",
       "      <td>2015-02-25 06:40:17</td>\n",
       "    </tr>\n",
       "    <tr>\n",
       "      <th>6</th>\n",
       "      <td>0x33f099</td>\n",
       "      <td>sadness</td>\n",
       "      <td>train</td>\n",
       "      <td></td>\n",
       "      <td>@Impeach_D_Trump @realDonaldTrump These people...</td>\n",
       "      <td>262</td>\n",
       "      <td>2017-02-18 23:51:08</td>\n",
       "    </tr>\n",
       "    <tr>\n",
       "      <th>7</th>\n",
       "      <td>0x2ae7b7</td>\n",
       "      <td>sadness</td>\n",
       "      <td>train</td>\n",
       "      <td>ugh</td>\n",
       "      <td>@BAMBl_twt mine too #ugh &lt;LH&gt;</td>\n",
       "      <td>254</td>\n",
       "      <td>2016-10-24 12:26:21</td>\n",
       "    </tr>\n",
       "    <tr>\n",
       "      <th>8</th>\n",
       "      <td>0x2408d4</td>\n",
       "      <td>trust</td>\n",
       "      <td>train</td>\n",
       "      <td>grateful</td>\n",
       "      <td>I have such an amazing mum, who for 3 wks has ...</td>\n",
       "      <td>733</td>\n",
       "      <td>2017-03-01 08:25:48</td>\n",
       "    </tr>\n",
       "    <tr>\n",
       "      <th>9</th>\n",
       "      <td>0x2b193b</td>\n",
       "      <td>sadness</td>\n",
       "      <td>train</td>\n",
       "      <td>POTUS</td>\n",
       "      <td>@SPECNewsROC Looks like Tillerson is stuck sen...</td>\n",
       "      <td>591</td>\n",
       "      <td>2017-11-16 09:45:31</td>\n",
       "    </tr>\n",
       "  </tbody>\n",
       "</table>\n",
       "</div>"
      ],
      "text/plain": [
       "   tweet_id       emotion identification  \\\n",
       "0  0x3140b1       sadness          train   \n",
       "1  0x368b73       disgust          train   \n",
       "2  0x296183  anticipation          train   \n",
       "3  0x2bd6e1           joy          train   \n",
       "4  0x2ee1dd  anticipation          train   \n",
       "5  0x34cd80           joy          train   \n",
       "6  0x33f099       sadness          train   \n",
       "7  0x2ae7b7       sadness          train   \n",
       "8  0x2408d4         trust          train   \n",
       "9  0x2b193b       sadness          train   \n",
       "\n",
       "                                  hashtags  \\\n",
       "0                                            \n",
       "1                                            \n",
       "2                        pouroutyourspirit   \n",
       "3                                            \n",
       "4                                            \n",
       "5  weather, LosAngeles, itsthelittlethings   \n",
       "6                                            \n",
       "7                                      ugh   \n",
       "8                                 grateful   \n",
       "9                                    POTUS   \n",
       "\n",
       "                                                text  score  \\\n",
       "0                             Why Chester? <LH> <LH>    105   \n",
       "1  @JaredLeto you are the fish that Jonah.  Excep...    797   \n",
       "2  He is coming back again and gonna come again q...    586   \n",
       "3  Dei is really such a beautiful person inside &...    780   \n",
       "4  Expressive praise is also an expression of fai...    329   \n",
       "5  This #weather 💖 <LH> #LosAngeles #itsthelittle...    845   \n",
       "6  @Impeach_D_Trump @realDonaldTrump These people...    262   \n",
       "7                      @BAMBl_twt mine too #ugh <LH>    254   \n",
       "8  I have such an amazing mum, who for 3 wks has ...    733   \n",
       "9  @SPECNewsROC Looks like Tillerson is stuck sen...    591   \n",
       "\n",
       "          crawled_date  \n",
       "0  2017-07-09 20:48:41  \n",
       "1  2015-08-09 06:58:43  \n",
       "2  2017-11-02 01:44:41  \n",
       "3  2015-03-11 18:40:46  \n",
       "4  2017-05-04 03:51:25  \n",
       "5  2015-02-25 06:40:17  \n",
       "6  2017-02-18 23:51:08  \n",
       "7  2016-10-24 12:26:21  \n",
       "8  2017-03-01 08:25:48  \n",
       "9  2017-11-16 09:45:31  "
      ]
     },
     "execution_count": 36,
     "metadata": {},
     "output_type": "execute_result"
    }
   ],
   "source": [
    "# change the data type of the 'hashtags' column to non-list\n",
    "all_data['hashtags'] = all_data['hashtags'].apply(lambda x: ', '.join(map(str, x)))\n",
    "all_data.head(10)"
   ]
  },
  {
   "cell_type": "code",
   "execution_count": 37,
   "metadata": {},
   "outputs": [
    {
     "data": {
      "text/plain": [
       "0"
      ]
     },
     "execution_count": 37,
     "metadata": {},
     "output_type": "execute_result"
    }
   ],
   "source": [
    "# check for duplicate data\n",
    "all_data.duplicated()\n",
    "all_data.duplicated().sum()"
   ]
  },
  {
   "cell_type": "code",
   "execution_count": 38,
   "metadata": {},
   "outputs": [],
   "source": [
    "# create training & testing dataset\n",
    "original_train_df = all_data[all_data['identification'] == 'train']\n",
    "test_df = all_data[all_data['identification'] == 'test']"
   ]
  },
  {
   "cell_type": "code",
   "execution_count": 39,
   "metadata": {},
   "outputs": [
    {
     "name": "stdout",
     "output_type": "stream",
     "text": [
      "Shape of Training Dataset:  (1455563, 7)\n",
      "Shape of Testing Dataset:  (411972, 7)\n"
     ]
    }
   ],
   "source": [
    "# check the shape of datasets\n",
    "print(\"Shape of Training Dataset: \", original_train_df.shape)\n",
    "print(\"Shape of Testing Dataset: \", test_df.shape)"
   ]
  },
  {
   "cell_type": "code",
   "execution_count": 40,
   "metadata": {},
   "outputs": [
    {
     "data": {
      "text/plain": [
       "tweet_id          0\n",
       "emotion           0\n",
       "identification    0\n",
       "text              0\n",
       "score             0\n",
       "crawled_date      0\n",
       "dtype: int64"
      ]
     },
     "execution_count": 40,
     "metadata": {},
     "output_type": "execute_result"
    }
   ],
   "source": [
    "# check for missing data in columns (excluding the 'hashtags' column) in train_df\n",
    "fourth = 'hashtags'\n",
    "selected_columns = original_train_df.columns[original_train_df.columns != fourth]\n",
    "original_train_df[selected_columns].isnull().sum()"
   ]
  },
  {
   "cell_type": "code",
   "execution_count": 41,
   "metadata": {},
   "outputs": [
    {
     "data": {
      "text/plain": [
       "emotion\n",
       "anger            39867\n",
       "anticipation    248935\n",
       "disgust         139101\n",
       "fear             63999\n",
       "joy             516017\n",
       "sadness         193437\n",
       "surprise         48729\n",
       "trust           205478\n",
       "Name: text, dtype: int64"
      ]
     },
     "execution_count": 41,
     "metadata": {},
     "output_type": "execute_result"
    }
   ],
   "source": [
    "# check data category distribution\n",
    "original_train_df.groupby(['emotion']).count()['text']"
   ]
  },
  {
   "cell_type": "code",
   "execution_count": 42,
   "metadata": {},
   "outputs": [
    {
     "name": "stdout",
     "output_type": "stream",
     "text": [
      "emotion\n",
      "anger           39867\n",
      "anticipation    39867\n",
      "disgust         39867\n",
      "fear            39867\n",
      "joy             39867\n",
      "sadness         39867\n",
      "surprise        39867\n",
      "trust           39867\n",
      "Name: text, dtype: int64\n"
     ]
    }
   ],
   "source": [
    "# calculate the target sample size as the min of the counts\n",
    "target_sample_size = int(original_train_df.groupby('emotion').count()['text'].min())\n",
    "\n",
    "# create an empty list to store the sampled DataFrames\n",
    "sampled_dfs = []\n",
    "\n",
    "# iterate over each group, sample data, and append to the list\n",
    "for group, data in original_train_df.groupby('emotion'):\n",
    "    sampled_group = data.sample(n=target_sample_size, replace=True)\n",
    "    sampled_dfs.append(sampled_group)\n",
    "\n",
    "# concatenate the list of sampled DataFrames into a single DataFrame\n",
    "sampled_df = pd.concat(sampled_dfs, ignore_index=True)\n",
    "\n",
    "# display the sampled DataFrame\n",
    "print(sampled_df.groupby('emotion').count()['text'])"
   ]
  },
  {
   "cell_type": "code",
   "execution_count": 43,
   "metadata": {},
   "outputs": [],
   "source": [
    "# save sampled_df & test_df as pickle files\n",
    "sampled_df.to_pickle(\"kaggle_data/sampled_df.pkl\")\n",
    "test_df.to_pickle(\"kaggle_data/test_df.pkl\")"
   ]
  },
  {
   "cell_type": "markdown",
   "metadata": {},
   "source": [
    "## Data Preprocessing"
   ]
  },
  {
   "cell_type": "code",
   "execution_count": 46,
   "metadata": {},
   "outputs": [],
   "source": [
    "# read sampled_df & test_df pickle files\n",
    "sampled_df = pd.read_pickle(\"kaggle_data/sampled_df.pkl\")\n",
    "test_df = pd.read_pickle(\"kaggle_data/test_df.pkl\")"
   ]
  },
  {
   "cell_type": "code",
   "execution_count": 47,
   "metadata": {},
   "outputs": [
    {
     "data": {
      "text/html": [
       "<div>\n",
       "<style scoped>\n",
       "    .dataframe tbody tr th:only-of-type {\n",
       "        vertical-align: middle;\n",
       "    }\n",
       "\n",
       "    .dataframe tbody tr th {\n",
       "        vertical-align: top;\n",
       "    }\n",
       "\n",
       "    .dataframe thead th {\n",
       "        text-align: right;\n",
       "    }\n",
       "</style>\n",
       "<table border=\"1\" class=\"dataframe\">\n",
       "  <thead>\n",
       "    <tr style=\"text-align: right;\">\n",
       "      <th></th>\n",
       "      <th>tweet_id</th>\n",
       "      <th>labels</th>\n",
       "      <th>identification</th>\n",
       "      <th>hashtags</th>\n",
       "      <th>text</th>\n",
       "      <th>score</th>\n",
       "      <th>crawled_date</th>\n",
       "    </tr>\n",
       "  </thead>\n",
       "  <tbody>\n",
       "    <tr>\n",
       "      <th>159716</th>\n",
       "      <td>0x24ddaf</td>\n",
       "      <td>joy</td>\n",
       "      <td>train</td>\n",
       "      <td>enjoythemoment</td>\n",
       "      <td>YES! Goals Achieved Today! Yahoo! &lt;LH&gt; &lt;LH&gt; &lt;L...</td>\n",
       "      <td>526</td>\n",
       "      <td>2017-10-27 21:09:33</td>\n",
       "    </tr>\n",
       "    <tr>\n",
       "      <th>141911</th>\n",
       "      <td>0x1f5438</td>\n",
       "      <td>fear</td>\n",
       "      <td>train</td>\n",
       "      <td></td>\n",
       "      <td>&lt;LH&gt; has the best music in these episodes, I'm...</td>\n",
       "      <td>667</td>\n",
       "      <td>2016-09-20 06:36:47</td>\n",
       "    </tr>\n",
       "    <tr>\n",
       "      <th>48471</th>\n",
       "      <td>0x25b0a7</td>\n",
       "      <td>anticipation</td>\n",
       "      <td>train</td>\n",
       "      <td></td>\n",
       "      <td>&lt;LH&gt; &lt;LH&gt; Elohim Your will be done to&amp;thru ins...</td>\n",
       "      <td>198</td>\n",
       "      <td>2016-10-09 05:08:03</td>\n",
       "    </tr>\n",
       "    <tr>\n",
       "      <th>25294</th>\n",
       "      <td>0x37a35e</td>\n",
       "      <td>anger</td>\n",
       "      <td>train</td>\n",
       "      <td></td>\n",
       "      <td>.@realDonaldTrump and supporters 🍒 pick what's...</td>\n",
       "      <td>244</td>\n",
       "      <td>2016-08-26 13:03:23</td>\n",
       "    </tr>\n",
       "    <tr>\n",
       "      <th>127999</th>\n",
       "      <td>0x2b4331</td>\n",
       "      <td>fear</td>\n",
       "      <td>train</td>\n",
       "      <td></td>\n",
       "      <td>hi im working and i think this guy just told m...</td>\n",
       "      <td>254</td>\n",
       "      <td>2017-11-12 02:23:11</td>\n",
       "    </tr>\n",
       "  </tbody>\n",
       "</table>\n",
       "</div>"
      ],
      "text/plain": [
       "        tweet_id        labels identification        hashtags  \\\n",
       "159716  0x24ddaf           joy          train  enjoythemoment   \n",
       "141911  0x1f5438          fear          train                   \n",
       "48471   0x25b0a7  anticipation          train                   \n",
       "25294   0x37a35e         anger          train                   \n",
       "127999  0x2b4331          fear          train                   \n",
       "\n",
       "                                                     text  score  \\\n",
       "159716  YES! Goals Achieved Today! Yahoo! <LH> <LH> <L...    526   \n",
       "141911  <LH> has the best music in these episodes, I'm...    667   \n",
       "48471   <LH> <LH> Elohim Your will be done to&thru ins...    198   \n",
       "25294   .@realDonaldTrump and supporters 🍒 pick what's...    244   \n",
       "127999  hi im working and i think this guy just told m...    254   \n",
       "\n",
       "               crawled_date  \n",
       "159716  2017-10-27 21:09:33  \n",
       "141911  2016-09-20 06:36:47  \n",
       "48471   2016-10-09 05:08:03  \n",
       "25294   2016-08-26 13:03:23  \n",
       "127999  2017-11-12 02:23:11  "
      ]
     },
     "execution_count": 47,
     "metadata": {},
     "output_type": "execute_result"
    }
   ],
   "source": [
    "# rename data columns\n",
    "sampled_df.rename(columns={\"emotion\": \"labels\"}, inplace=True)\n",
    "# shuffle dataset\n",
    "sampled_df = sampled_df.sample(frac=1)\n",
    "sampled_df.head()"
   ]
  },
  {
   "cell_type": "code",
   "execution_count": 48,
   "metadata": {},
   "outputs": [],
   "source": [
    "from sklearn.model_selection import train_test_split\n",
    "\n",
    "# split sampled_df into train_df & valid_df, then save as CSV files with the required columns\n",
    "train_df, valid_df = train_test_split(sampled_df, test_size=0.2, random_state=42)\n",
    "train_df[['text', 'labels']].to_csv(\"kaggle_data/train_df.csv\", index=False, quoting=2)\n",
    "valid_df[['text', 'labels']].to_csv(\"kaggle_data/valid_df.csv\", index=False, quoting=2)"
   ]
  },
  {
   "cell_type": "code",
   "execution_count": 49,
   "metadata": {},
   "outputs": [
    {
     "name": "stdout",
     "output_type": "stream",
     "text": [
      "Shape of Training Dataset:  (255148, 7)\n",
      "Shape of Validation Dataset:  (63788, 7)\n"
     ]
    }
   ],
   "source": [
    "# check the shape of datasets\n",
    "print(\"Shape of Training Dataset: \", train_df.shape)\n",
    "print(\"Shape of Validation Dataset: \", valid_df.shape)"
   ]
  },
  {
   "cell_type": "code",
   "execution_count": 50,
   "metadata": {},
   "outputs": [
    {
     "data": {
      "text/html": [
       "<div>\n",
       "<style scoped>\n",
       "    .dataframe tbody tr th:only-of-type {\n",
       "        vertical-align: middle;\n",
       "    }\n",
       "\n",
       "    .dataframe tbody tr th {\n",
       "        vertical-align: top;\n",
       "    }\n",
       "\n",
       "    .dataframe thead th {\n",
       "        text-align: right;\n",
       "    }\n",
       "</style>\n",
       "<table border=\"1\" class=\"dataframe\">\n",
       "  <thead>\n",
       "    <tr style=\"text-align: right;\">\n",
       "      <th></th>\n",
       "      <th>tweet_id</th>\n",
       "      <th>labels</th>\n",
       "      <th>identification</th>\n",
       "      <th>hashtags</th>\n",
       "      <th>text</th>\n",
       "      <th>score</th>\n",
       "      <th>crawled_date</th>\n",
       "    </tr>\n",
       "  </thead>\n",
       "  <tbody>\n",
       "    <tr>\n",
       "      <th>218334</th>\n",
       "      <td>0x2c9d02</td>\n",
       "      <td>sadness</td>\n",
       "      <td>train</td>\n",
       "      <td></td>\n",
       "      <td>@realDonaldTrump Shouldn't you get on with you...</td>\n",
       "      <td>686</td>\n",
       "      <td>2016-12-22 09:35:35</td>\n",
       "    </tr>\n",
       "    <tr>\n",
       "      <th>165761</th>\n",
       "      <td>0x379585</td>\n",
       "      <td>joy</td>\n",
       "      <td>train</td>\n",
       "      <td></td>\n",
       "      <td>&lt;LH&gt; birthday to amazing and fabulous boss Kee...</td>\n",
       "      <td>446</td>\n",
       "      <td>2016-01-07 17:00:28</td>\n",
       "    </tr>\n",
       "    <tr>\n",
       "      <th>44584</th>\n",
       "      <td>0x32a5fa</td>\n",
       "      <td>anticipation</td>\n",
       "      <td>train</td>\n",
       "      <td>needcoffee</td>\n",
       "      <td>So &lt;LH&gt; to watch Murder on a Street Car Named ...</td>\n",
       "      <td>285</td>\n",
       "      <td>2016-11-15 14:00:31</td>\n",
       "    </tr>\n",
       "    <tr>\n",
       "      <th>189020</th>\n",
       "      <td>0x210bb3</td>\n",
       "      <td>joy</td>\n",
       "      <td>train</td>\n",
       "      <td></td>\n",
       "      <td>Hmm is it too early for my annual viewing of T...</td>\n",
       "      <td>795</td>\n",
       "      <td>2016-10-01 11:21:25</td>\n",
       "    </tr>\n",
       "    <tr>\n",
       "      <th>81692</th>\n",
       "      <td>0x24779b</td>\n",
       "      <td>disgust</td>\n",
       "      <td>train</td>\n",
       "      <td>ffs, smh, unprofessional, chaotic</td>\n",
       "      <td>Hope &amp; Glory Festival... Jesus 🙄🤦🏻‍♂️ #ffs #sm...</td>\n",
       "      <td>478</td>\n",
       "      <td>2015-08-11 13:59:18</td>\n",
       "    </tr>\n",
       "    <tr>\n",
       "      <th>48631</th>\n",
       "      <td>0x248666</td>\n",
       "      <td>anticipation</td>\n",
       "      <td>train</td>\n",
       "      <td>alterboy, halloween, priest, pregnant</td>\n",
       "      <td>My &lt;LH&gt; dressed up as an #alterboy for #hallow...</td>\n",
       "      <td>1010</td>\n",
       "      <td>2016-04-18 03:36:47</td>\n",
       "    </tr>\n",
       "    <tr>\n",
       "      <th>57344</th>\n",
       "      <td>0x283ce8</td>\n",
       "      <td>anticipation</td>\n",
       "      <td>train</td>\n",
       "      <td>Life</td>\n",
       "      <td>70 The moments in your life are only once #Lif...</td>\n",
       "      <td>104</td>\n",
       "      <td>2015-07-01 16:01:31</td>\n",
       "    </tr>\n",
       "    <tr>\n",
       "      <th>64186</th>\n",
       "      <td>0x328f60</td>\n",
       "      <td>anticipation</td>\n",
       "      <td>train</td>\n",
       "      <td>God</td>\n",
       "      <td>@Steve41987536 @BigOrangeCoach @jfowler1982 TY...</td>\n",
       "      <td>987</td>\n",
       "      <td>2015-04-26 14:28:42</td>\n",
       "    </tr>\n",
       "    <tr>\n",
       "      <th>167524</th>\n",
       "      <td>0x244cb7</td>\n",
       "      <td>joy</td>\n",
       "      <td>train</td>\n",
       "      <td>AmazingGrace, PayItForward</td>\n",
       "      <td>&lt;LH&gt; are you who have been forgiven much, for ...</td>\n",
       "      <td>509</td>\n",
       "      <td>2015-08-22 10:43:23</td>\n",
       "    </tr>\n",
       "    <tr>\n",
       "      <th>147192</th>\n",
       "      <td>0x3416eb</td>\n",
       "      <td>fear</td>\n",
       "      <td>train</td>\n",
       "      <td></td>\n",
       "      <td>Im so tired of Lawrence homeboy &lt;LH&gt;</td>\n",
       "      <td>977</td>\n",
       "      <td>2016-03-07 14:44:36</td>\n",
       "    </tr>\n",
       "  </tbody>\n",
       "</table>\n",
       "</div>"
      ],
      "text/plain": [
       "        tweet_id        labels identification  \\\n",
       "218334  0x2c9d02       sadness          train   \n",
       "165761  0x379585           joy          train   \n",
       "44584   0x32a5fa  anticipation          train   \n",
       "189020  0x210bb3           joy          train   \n",
       "81692   0x24779b       disgust          train   \n",
       "48631   0x248666  anticipation          train   \n",
       "57344   0x283ce8  anticipation          train   \n",
       "64186   0x328f60  anticipation          train   \n",
       "167524  0x244cb7           joy          train   \n",
       "147192  0x3416eb          fear          train   \n",
       "\n",
       "                                     hashtags  \\\n",
       "218334                                          \n",
       "165761                                          \n",
       "44584                              needcoffee   \n",
       "189020                                          \n",
       "81692       ffs, smh, unprofessional, chaotic   \n",
       "48631   alterboy, halloween, priest, pregnant   \n",
       "57344                                    Life   \n",
       "64186                                     God   \n",
       "167524             AmazingGrace, PayItForward   \n",
       "147192                                          \n",
       "\n",
       "                                                     text  score  \\\n",
       "218334  @realDonaldTrump Shouldn't you get on with you...    686   \n",
       "165761  <LH> birthday to amazing and fabulous boss Kee...    446   \n",
       "44584   So <LH> to watch Murder on a Street Car Named ...    285   \n",
       "189020  Hmm is it too early for my annual viewing of T...    795   \n",
       "81692   Hope & Glory Festival... Jesus 🙄🤦🏻‍♂️ #ffs #sm...    478   \n",
       "48631   My <LH> dressed up as an #alterboy for #hallow...   1010   \n",
       "57344   70 The moments in your life are only once #Lif...    104   \n",
       "64186   @Steve41987536 @BigOrangeCoach @jfowler1982 TY...    987   \n",
       "167524  <LH> are you who have been forgiven much, for ...    509   \n",
       "147192               Im so tired of Lawrence homeboy <LH>    977   \n",
       "\n",
       "               crawled_date  \n",
       "218334  2016-12-22 09:35:35  \n",
       "165761  2016-01-07 17:00:28  \n",
       "44584   2016-11-15 14:00:31  \n",
       "189020  2016-10-01 11:21:25  \n",
       "81692   2015-08-11 13:59:18  \n",
       "48631   2016-04-18 03:36:47  \n",
       "57344   2015-07-01 16:01:31  \n",
       "64186   2015-04-26 14:28:42  \n",
       "167524  2015-08-22 10:43:23  \n",
       "147192  2016-03-07 14:44:36  "
      ]
     },
     "execution_count": 50,
     "metadata": {},
     "output_type": "execute_result"
    }
   ],
   "source": [
    "train_df.head(10)"
   ]
  },
  {
   "cell_type": "code",
   "execution_count": 51,
   "metadata": {},
   "outputs": [
    {
     "data": {
      "text/html": [
       "<div>\n",
       "<style scoped>\n",
       "    .dataframe tbody tr th:only-of-type {\n",
       "        vertical-align: middle;\n",
       "    }\n",
       "\n",
       "    .dataframe tbody tr th {\n",
       "        vertical-align: top;\n",
       "    }\n",
       "\n",
       "    .dataframe thead th {\n",
       "        text-align: right;\n",
       "    }\n",
       "</style>\n",
       "<table border=\"1\" class=\"dataframe\">\n",
       "  <thead>\n",
       "    <tr style=\"text-align: right;\">\n",
       "      <th></th>\n",
       "      <th>tweet_id</th>\n",
       "      <th>labels</th>\n",
       "      <th>identification</th>\n",
       "      <th>hashtags</th>\n",
       "      <th>text</th>\n",
       "      <th>score</th>\n",
       "      <th>crawled_date</th>\n",
       "    </tr>\n",
       "  </thead>\n",
       "  <tbody>\n",
       "    <tr>\n",
       "      <th>193082</th>\n",
       "      <td>0x26526c</td>\n",
       "      <td>joy</td>\n",
       "      <td>train</td>\n",
       "      <td></td>\n",
       "      <td>@BaronCorbinWWE @BaronCorbinWWE  that was &lt;LH&gt;</td>\n",
       "      <td>114</td>\n",
       "      <td>2017-07-05 04:31:28</td>\n",
       "    </tr>\n",
       "    <tr>\n",
       "      <th>191527</th>\n",
       "      <td>0x2247e2</td>\n",
       "      <td>joy</td>\n",
       "      <td>train</td>\n",
       "      <td></td>\n",
       "      <td>@LeflerLearns @HR_eics Our students were so we...</td>\n",
       "      <td>435</td>\n",
       "      <td>2016-04-17 04:33:14</td>\n",
       "    </tr>\n",
       "    <tr>\n",
       "      <th>80747</th>\n",
       "      <td>0x2b11d2</td>\n",
       "      <td>disgust</td>\n",
       "      <td>train</td>\n",
       "      <td></td>\n",
       "      <td>@AnneFrankCenter @IvankaTrump @POTUS Ms. Trump...</td>\n",
       "      <td>133</td>\n",
       "      <td>2017-01-21 03:07:47</td>\n",
       "    </tr>\n",
       "    <tr>\n",
       "      <th>165331</th>\n",
       "      <td>0x2d1fd9</td>\n",
       "      <td>joy</td>\n",
       "      <td>train</td>\n",
       "      <td></td>\n",
       "      <td>A lot of you liked Paul before, thankfully I c...</td>\n",
       "      <td>643</td>\n",
       "      <td>2015-09-13 02:39:25</td>\n",
       "    </tr>\n",
       "    <tr>\n",
       "      <th>116412</th>\n",
       "      <td>0x3195af</td>\n",
       "      <td>disgust</td>\n",
       "      <td>train</td>\n",
       "      <td>BatShitCrazy</td>\n",
       "      <td>@FoxNews @NancyPelosi @realDonaldTrump She wan...</td>\n",
       "      <td>567</td>\n",
       "      <td>2017-03-26 03:57:51</td>\n",
       "    </tr>\n",
       "    <tr>\n",
       "      <th>308137</th>\n",
       "      <td>0x2c60f3</td>\n",
       "      <td>trust</td>\n",
       "      <td>train</td>\n",
       "      <td>decoration</td>\n",
       "      <td>@FLOTUS @WhiteHouse Absolutely beautiful #deco...</td>\n",
       "      <td>580</td>\n",
       "      <td>2017-06-25 22:36:14</td>\n",
       "    </tr>\n",
       "    <tr>\n",
       "      <th>48230</th>\n",
       "      <td>0x25bf33</td>\n",
       "      <td>anticipation</td>\n",
       "      <td>train</td>\n",
       "      <td></td>\n",
       "      <td>@proudTgurl &lt;LH&gt; We can do it. &lt;LH&gt;</td>\n",
       "      <td>328</td>\n",
       "      <td>2015-02-23 06:17:02</td>\n",
       "    </tr>\n",
       "    <tr>\n",
       "      <th>173471</th>\n",
       "      <td>0x24a7c5</td>\n",
       "      <td>joy</td>\n",
       "      <td>train</td>\n",
       "      <td>Ted1, Ted2, munchies, girlietime, sweets, choc...</td>\n",
       "      <td>Watching #Ted1 &amp; #Ted2 with a lot of #munchies...</td>\n",
       "      <td>710</td>\n",
       "      <td>2016-05-07 22:58:28</td>\n",
       "    </tr>\n",
       "    <tr>\n",
       "      <th>225436</th>\n",
       "      <td>0x2da490</td>\n",
       "      <td>sadness</td>\n",
       "      <td>train</td>\n",
       "      <td>truestory, manofleisure</td>\n",
       "      <td>I've thought it was Friday on 3 occasions toda...</td>\n",
       "      <td>407</td>\n",
       "      <td>2016-05-14 09:44:28</td>\n",
       "    </tr>\n",
       "    <tr>\n",
       "      <th>312160</th>\n",
       "      <td>0x2940b2</td>\n",
       "      <td>trust</td>\n",
       "      <td>train</td>\n",
       "      <td></td>\n",
       "      <td>@DonnieWahlberg &lt;LH&gt; miss you guys already</td>\n",
       "      <td>526</td>\n",
       "      <td>2015-12-14 19:01:38</td>\n",
       "    </tr>\n",
       "  </tbody>\n",
       "</table>\n",
       "</div>"
      ],
      "text/plain": [
       "        tweet_id        labels identification  \\\n",
       "193082  0x26526c           joy          train   \n",
       "191527  0x2247e2           joy          train   \n",
       "80747   0x2b11d2       disgust          train   \n",
       "165331  0x2d1fd9           joy          train   \n",
       "116412  0x3195af       disgust          train   \n",
       "308137  0x2c60f3         trust          train   \n",
       "48230   0x25bf33  anticipation          train   \n",
       "173471  0x24a7c5           joy          train   \n",
       "225436  0x2da490       sadness          train   \n",
       "312160  0x2940b2         trust          train   \n",
       "\n",
       "                                                 hashtags  \\\n",
       "193082                                                      \n",
       "191527                                                      \n",
       "80747                                                       \n",
       "165331                                                      \n",
       "116412                                       BatShitCrazy   \n",
       "308137                                         decoration   \n",
       "48230                                                       \n",
       "173471  Ted1, Ted2, munchies, girlietime, sweets, choc...   \n",
       "225436                            truestory, manofleisure   \n",
       "312160                                                      \n",
       "\n",
       "                                                     text  score  \\\n",
       "193082     @BaronCorbinWWE @BaronCorbinWWE  that was <LH>    114   \n",
       "191527  @LeflerLearns @HR_eics Our students were so we...    435   \n",
       "80747   @AnneFrankCenter @IvankaTrump @POTUS Ms. Trump...    133   \n",
       "165331  A lot of you liked Paul before, thankfully I c...    643   \n",
       "116412  @FoxNews @NancyPelosi @realDonaldTrump She wan...    567   \n",
       "308137  @FLOTUS @WhiteHouse Absolutely beautiful #deco...    580   \n",
       "48230                 @proudTgurl <LH> We can do it. <LH>    328   \n",
       "173471  Watching #Ted1 & #Ted2 with a lot of #munchies...    710   \n",
       "225436  I've thought it was Friday on 3 occasions toda...    407   \n",
       "312160         @DonnieWahlberg <LH> miss you guys already    526   \n",
       "\n",
       "               crawled_date  \n",
       "193082  2017-07-05 04:31:28  \n",
       "191527  2016-04-17 04:33:14  \n",
       "80747   2017-01-21 03:07:47  \n",
       "165331  2015-09-13 02:39:25  \n",
       "116412  2017-03-26 03:57:51  \n",
       "308137  2017-06-25 22:36:14  \n",
       "48230   2015-02-23 06:17:02  \n",
       "173471  2016-05-07 22:58:28  \n",
       "225436  2016-05-14 09:44:28  \n",
       "312160  2015-12-14 19:01:38  "
      ]
     },
     "execution_count": 51,
     "metadata": {},
     "output_type": "execute_result"
    }
   ],
   "source": [
    "valid_df.head(10)"
   ]
  },
  {
   "cell_type": "code",
   "execution_count": 52,
   "metadata": {},
   "outputs": [],
   "source": [
    "# extract the required data columns\n",
    "test_df[['tweet_id', 'text']].to_csv(\"kaggle_data/test_df.csv\", index=False, quoting=2)"
   ]
  },
  {
   "cell_type": "code",
   "execution_count": 53,
   "metadata": {},
   "outputs": [
    {
     "data": {
      "text/html": [
       "<div>\n",
       "<style scoped>\n",
       "    .dataframe tbody tr th:only-of-type {\n",
       "        vertical-align: middle;\n",
       "    }\n",
       "\n",
       "    .dataframe tbody tr th {\n",
       "        vertical-align: top;\n",
       "    }\n",
       "\n",
       "    .dataframe thead th {\n",
       "        text-align: right;\n",
       "    }\n",
       "</style>\n",
       "<table border=\"1\" class=\"dataframe\">\n",
       "  <thead>\n",
       "    <tr style=\"text-align: right;\">\n",
       "      <th></th>\n",
       "      <th>tweet_id</th>\n",
       "      <th>text</th>\n",
       "    </tr>\n",
       "  </thead>\n",
       "  <tbody>\n",
       "    <tr>\n",
       "      <th>0</th>\n",
       "      <td>0x28cc61</td>\n",
       "      <td>@Habbo I've seen two separate colours of the e...</td>\n",
       "    </tr>\n",
       "    <tr>\n",
       "      <th>1</th>\n",
       "      <td>0x2db41f</td>\n",
       "      <td>@FoxNews @KellyannePolls No serious self respe...</td>\n",
       "    </tr>\n",
       "    <tr>\n",
       "      <th>2</th>\n",
       "      <td>0x2466f6</td>\n",
       "      <td>Looking for a new car, and it says 1 lady owne...</td>\n",
       "    </tr>\n",
       "    <tr>\n",
       "      <th>3</th>\n",
       "      <td>0x23f9e9</td>\n",
       "      <td>@cineworld “only the brave” just out and fount...</td>\n",
       "    </tr>\n",
       "    <tr>\n",
       "      <th>4</th>\n",
       "      <td>0x1fb4e1</td>\n",
       "      <td>Felt like total dog 💩 going into open gym and ...</td>\n",
       "    </tr>\n",
       "    <tr>\n",
       "      <th>5</th>\n",
       "      <td>0x2f77fe</td>\n",
       "      <td>#RYSENSHYNE @nydjlive plz  ply me ne woa  @man...</td>\n",
       "    </tr>\n",
       "    <tr>\n",
       "      <th>6</th>\n",
       "      <td>0x3101fd</td>\n",
       "      <td>I am thankful for my husband,  family, furry b...</td>\n",
       "    </tr>\n",
       "    <tr>\n",
       "      <th>7</th>\n",
       "      <td>0x1e1f33</td>\n",
       "      <td>I have dreams but then there are dreams that f...</td>\n",
       "    </tr>\n",
       "    <tr>\n",
       "      <th>8</th>\n",
       "      <td>0x1f32bd</td>\n",
       "      <td>Fuck you @JoelOsteen God will judge you for yo...</td>\n",
       "    </tr>\n",
       "    <tr>\n",
       "      <th>9</th>\n",
       "      <td>0x32e0c3</td>\n",
       "      <td>Pretty sure he was safe...just because the thr...</td>\n",
       "    </tr>\n",
       "  </tbody>\n",
       "</table>\n",
       "</div>"
      ],
      "text/plain": [
       "   tweet_id                                               text\n",
       "0  0x28cc61  @Habbo I've seen two separate colours of the e...\n",
       "1  0x2db41f  @FoxNews @KellyannePolls No serious self respe...\n",
       "2  0x2466f6  Looking for a new car, and it says 1 lady owne...\n",
       "3  0x23f9e9  @cineworld “only the brave” just out and fount...\n",
       "4  0x1fb4e1  Felt like total dog 💩 going into open gym and ...\n",
       "5  0x2f77fe  #RYSENSHYNE @nydjlive plz  ply me ne woa  @man...\n",
       "6  0x3101fd  I am thankful for my husband,  family, furry b...\n",
       "7  0x1e1f33  I have dreams but then there are dreams that f...\n",
       "8  0x1f32bd  Fuck you @JoelOsteen God will judge you for yo...\n",
       "9  0x32e0c3  Pretty sure he was safe...just because the thr..."
      ]
     },
     "execution_count": 53,
     "metadata": {},
     "output_type": "execute_result"
    }
   ],
   "source": [
    "# read test_df.csv file\n",
    "test_df = pd.read_csv(\"kaggle_data/test_df.csv\")\n",
    "test_df.head(10)"
   ]
  },
  {
   "cell_type": "code",
   "execution_count": 55,
   "metadata": {},
   "outputs": [],
   "source": [
    "# remove <LH>, @, and # from the 'text' column in train_df\n",
    "train_df = pd.read_csv('kaggle_data/train_df.csv')\n",
    "train_df['text'] = train_df['text'].str.replace('<LH>', '')\n",
    "train_df['text'] = train_df['text'].str.replace('@', '')\n",
    "train_df['text'] = train_df['text'].str.replace('#', '')\n",
    "train_df.to_csv(\"kaggle_data/train_df.csv\", index=False, quoting=2)"
   ]
  },
  {
   "cell_type": "code",
   "execution_count": 56,
   "metadata": {},
   "outputs": [
    {
     "data": {
      "text/html": [
       "<div>\n",
       "<style scoped>\n",
       "    .dataframe tbody tr th:only-of-type {\n",
       "        vertical-align: middle;\n",
       "    }\n",
       "\n",
       "    .dataframe tbody tr th {\n",
       "        vertical-align: top;\n",
       "    }\n",
       "\n",
       "    .dataframe thead th {\n",
       "        text-align: right;\n",
       "    }\n",
       "</style>\n",
       "<table border=\"1\" class=\"dataframe\">\n",
       "  <thead>\n",
       "    <tr style=\"text-align: right;\">\n",
       "      <th></th>\n",
       "      <th>text</th>\n",
       "      <th>labels</th>\n",
       "    </tr>\n",
       "  </thead>\n",
       "  <tbody>\n",
       "    <tr>\n",
       "      <th>0</th>\n",
       "      <td>realDonaldTrump Shouldn't you get on with your...</td>\n",
       "      <td>sadness</td>\n",
       "    </tr>\n",
       "    <tr>\n",
       "      <th>1</th>\n",
       "      <td>birthday to amazing and fabulous boss Keeley ...</td>\n",
       "      <td>joy</td>\n",
       "    </tr>\n",
       "    <tr>\n",
       "      <th>2</th>\n",
       "      <td>So  to watch Murder on a Street Car Named Desi...</td>\n",
       "      <td>anticipation</td>\n",
       "    </tr>\n",
       "    <tr>\n",
       "      <th>3</th>\n",
       "      <td>Hmm is it too early for my annual viewing of T...</td>\n",
       "      <td>joy</td>\n",
       "    </tr>\n",
       "    <tr>\n",
       "      <th>4</th>\n",
       "      <td>Hope &amp; Glory Festival... Jesus 🙄🤦🏻‍♂️ ffs smh ...</td>\n",
       "      <td>disgust</td>\n",
       "    </tr>\n",
       "    <tr>\n",
       "      <th>5</th>\n",
       "      <td>My  dressed up as an alterboy for halloween sh...</td>\n",
       "      <td>anticipation</td>\n",
       "    </tr>\n",
       "    <tr>\n",
       "      <th>6</th>\n",
       "      <td>70 The moments in your life are only once Life...</td>\n",
       "      <td>anticipation</td>\n",
       "    </tr>\n",
       "    <tr>\n",
       "      <th>7</th>\n",
       "      <td>Steve41987536 BigOrangeCoach jfowler1982 TY Tu...</td>\n",
       "      <td>anticipation</td>\n",
       "    </tr>\n",
       "    <tr>\n",
       "      <th>8</th>\n",
       "      <td>are you who have been forgiven much, for you ...</td>\n",
       "      <td>joy</td>\n",
       "    </tr>\n",
       "    <tr>\n",
       "      <th>9</th>\n",
       "      <td>Im so tired of Lawrence homeboy</td>\n",
       "      <td>fear</td>\n",
       "    </tr>\n",
       "  </tbody>\n",
       "</table>\n",
       "</div>"
      ],
      "text/plain": [
       "                                                text        labels\n",
       "0  realDonaldTrump Shouldn't you get on with your...       sadness\n",
       "1   birthday to amazing and fabulous boss Keeley ...           joy\n",
       "2  So  to watch Murder on a Street Car Named Desi...  anticipation\n",
       "3  Hmm is it too early for my annual viewing of T...           joy\n",
       "4  Hope & Glory Festival... Jesus 🙄🤦🏻‍♂️ ffs smh ...       disgust\n",
       "5  My  dressed up as an alterboy for halloween sh...  anticipation\n",
       "6  70 The moments in your life are only once Life...  anticipation\n",
       "7  Steve41987536 BigOrangeCoach jfowler1982 TY Tu...  anticipation\n",
       "8   are you who have been forgiven much, for you ...           joy\n",
       "9                   Im so tired of Lawrence homeboy           fear"
      ]
     },
     "execution_count": 56,
     "metadata": {},
     "output_type": "execute_result"
    }
   ],
   "source": [
    "train_df = pd.read_csv(\"kaggle_data/train_df.csv\")\n",
    "train_df.head(10)"
   ]
  },
  {
   "cell_type": "code",
   "execution_count": 57,
   "metadata": {},
   "outputs": [],
   "source": [
    "# remove <LH>, @, and # from the 'text' column in valid_df\n",
    "valid_df = pd.read_csv('kaggle_data/valid_df.csv')\n",
    "valid_df['text'] = valid_df['text'].str.replace('<LH>', '')\n",
    "valid_df['text'] = valid_df['text'].str.replace('@', '')\n",
    "valid_df['text'] = valid_df['text'].str.replace('#', '')\n",
    "valid_df.to_csv(\"kaggle_data/valid_df.csv\", index=False, quoting=2)"
   ]
  },
  {
   "cell_type": "code",
   "execution_count": 58,
   "metadata": {},
   "outputs": [
    {
     "data": {
      "text/html": [
       "<div>\n",
       "<style scoped>\n",
       "    .dataframe tbody tr th:only-of-type {\n",
       "        vertical-align: middle;\n",
       "    }\n",
       "\n",
       "    .dataframe tbody tr th {\n",
       "        vertical-align: top;\n",
       "    }\n",
       "\n",
       "    .dataframe thead th {\n",
       "        text-align: right;\n",
       "    }\n",
       "</style>\n",
       "<table border=\"1\" class=\"dataframe\">\n",
       "  <thead>\n",
       "    <tr style=\"text-align: right;\">\n",
       "      <th></th>\n",
       "      <th>text</th>\n",
       "      <th>labels</th>\n",
       "    </tr>\n",
       "  </thead>\n",
       "  <tbody>\n",
       "    <tr>\n",
       "      <th>0</th>\n",
       "      <td>BaronCorbinWWE BaronCorbinWWE  that was</td>\n",
       "      <td>joy</td>\n",
       "    </tr>\n",
       "    <tr>\n",
       "      <th>1</th>\n",
       "      <td>LeflerLearns HR_eics Our students were so well...</td>\n",
       "      <td>joy</td>\n",
       "    </tr>\n",
       "    <tr>\n",
       "      <th>2</th>\n",
       "      <td>AnneFrankCenter IvankaTrump POTUS Ms. Trump - ...</td>\n",
       "      <td>disgust</td>\n",
       "    </tr>\n",
       "    <tr>\n",
       "      <th>3</th>\n",
       "      <td>A lot of you liked Paul before, thankfully I c...</td>\n",
       "      <td>joy</td>\n",
       "    </tr>\n",
       "    <tr>\n",
       "      <th>4</th>\n",
       "      <td>FoxNews NancyPelosi realDonaldTrump She wants ...</td>\n",
       "      <td>disgust</td>\n",
       "    </tr>\n",
       "    <tr>\n",
       "      <th>5</th>\n",
       "      <td>FLOTUS WhiteHouse Absolutely beautiful decorat...</td>\n",
       "      <td>trust</td>\n",
       "    </tr>\n",
       "    <tr>\n",
       "      <th>6</th>\n",
       "      <td>proudTgurl  We can do it.</td>\n",
       "      <td>anticipation</td>\n",
       "    </tr>\n",
       "    <tr>\n",
       "      <th>7</th>\n",
       "      <td>Watching Ted1 &amp; Ted2 with a lot of munchies gi...</td>\n",
       "      <td>joy</td>\n",
       "    </tr>\n",
       "    <tr>\n",
       "      <th>8</th>\n",
       "      <td>I've thought it was Friday on 3 occasions toda...</td>\n",
       "      <td>sadness</td>\n",
       "    </tr>\n",
       "    <tr>\n",
       "      <th>9</th>\n",
       "      <td>DonnieWahlberg  miss you guys already</td>\n",
       "      <td>trust</td>\n",
       "    </tr>\n",
       "  </tbody>\n",
       "</table>\n",
       "</div>"
      ],
      "text/plain": [
       "                                                text        labels\n",
       "0           BaronCorbinWWE BaronCorbinWWE  that was            joy\n",
       "1  LeflerLearns HR_eics Our students were so well...           joy\n",
       "2  AnneFrankCenter IvankaTrump POTUS Ms. Trump - ...       disgust\n",
       "3  A lot of you liked Paul before, thankfully I c...           joy\n",
       "4  FoxNews NancyPelosi realDonaldTrump She wants ...       disgust\n",
       "5  FLOTUS WhiteHouse Absolutely beautiful decorat...         trust\n",
       "6                         proudTgurl  We can do it.   anticipation\n",
       "7  Watching Ted1 & Ted2 with a lot of munchies gi...           joy\n",
       "8  I've thought it was Friday on 3 occasions toda...       sadness\n",
       "9              DonnieWahlberg  miss you guys already         trust"
      ]
     },
     "execution_count": 58,
     "metadata": {},
     "output_type": "execute_result"
    }
   ],
   "source": [
    "valid_df = pd.read_csv(\"kaggle_data/valid_df.csv\")\n",
    "valid_df.head(10)"
   ]
  },
  {
   "cell_type": "code",
   "execution_count": 59,
   "metadata": {},
   "outputs": [],
   "source": [
    "# remove <LH>, @, and # from the 'text' column in test_df\n",
    "test_df = pd.read_csv('kaggle_data/test_df.csv')\n",
    "test_df['text'] = test_df['text'].str.replace('<LH>', '')\n",
    "test_df['text'] = test_df['text'].str.replace('@', '')\n",
    "test_df['text'] = test_df['text'].str.replace('#', '')\n",
    "test_df.to_csv(\"kaggle_data/test_df.csv\", index=False, quoting=2)"
   ]
  },
  {
   "cell_type": "code",
   "execution_count": 60,
   "metadata": {},
   "outputs": [
    {
     "data": {
      "text/html": [
       "<div>\n",
       "<style scoped>\n",
       "    .dataframe tbody tr th:only-of-type {\n",
       "        vertical-align: middle;\n",
       "    }\n",
       "\n",
       "    .dataframe tbody tr th {\n",
       "        vertical-align: top;\n",
       "    }\n",
       "\n",
       "    .dataframe thead th {\n",
       "        text-align: right;\n",
       "    }\n",
       "</style>\n",
       "<table border=\"1\" class=\"dataframe\">\n",
       "  <thead>\n",
       "    <tr style=\"text-align: right;\">\n",
       "      <th></th>\n",
       "      <th>tweet_id</th>\n",
       "      <th>text</th>\n",
       "    </tr>\n",
       "  </thead>\n",
       "  <tbody>\n",
       "    <tr>\n",
       "      <th>0</th>\n",
       "      <td>0x28cc61</td>\n",
       "      <td>Habbo I've seen two separate colours of the el...</td>\n",
       "    </tr>\n",
       "    <tr>\n",
       "      <th>1</th>\n",
       "      <td>0x2db41f</td>\n",
       "      <td>FoxNews KellyannePolls No serious self respect...</td>\n",
       "    </tr>\n",
       "    <tr>\n",
       "      <th>2</th>\n",
       "      <td>0x2466f6</td>\n",
       "      <td>Looking for a new car, and it says 1 lady owne...</td>\n",
       "    </tr>\n",
       "    <tr>\n",
       "      <th>3</th>\n",
       "      <td>0x23f9e9</td>\n",
       "      <td>cineworld “only the brave” just out and founta...</td>\n",
       "    </tr>\n",
       "    <tr>\n",
       "      <th>4</th>\n",
       "      <td>0x1fb4e1</td>\n",
       "      <td>Felt like total dog 💩 going into open gym and ...</td>\n",
       "    </tr>\n",
       "    <tr>\n",
       "      <th>5</th>\n",
       "      <td>0x2f77fe</td>\n",
       "      <td>RYSENSHYNE nydjlive plz  ply me ne woa  manife...</td>\n",
       "    </tr>\n",
       "    <tr>\n",
       "      <th>6</th>\n",
       "      <td>0x3101fd</td>\n",
       "      <td>I am thankful for my husband,  family, furry b...</td>\n",
       "    </tr>\n",
       "    <tr>\n",
       "      <th>7</th>\n",
       "      <td>0x1e1f33</td>\n",
       "      <td>I have dreams but then there are dreams that f...</td>\n",
       "    </tr>\n",
       "    <tr>\n",
       "      <th>8</th>\n",
       "      <td>0x1f32bd</td>\n",
       "      <td>Fuck you JoelOsteen God will judge you for you...</td>\n",
       "    </tr>\n",
       "    <tr>\n",
       "      <th>9</th>\n",
       "      <td>0x32e0c3</td>\n",
       "      <td>Pretty sure he was safe...just because the thr...</td>\n",
       "    </tr>\n",
       "  </tbody>\n",
       "</table>\n",
       "</div>"
      ],
      "text/plain": [
       "   tweet_id                                               text\n",
       "0  0x28cc61  Habbo I've seen two separate colours of the el...\n",
       "1  0x2db41f  FoxNews KellyannePolls No serious self respect...\n",
       "2  0x2466f6  Looking for a new car, and it says 1 lady owne...\n",
       "3  0x23f9e9  cineworld “only the brave” just out and founta...\n",
       "4  0x1fb4e1  Felt like total dog 💩 going into open gym and ...\n",
       "5  0x2f77fe  RYSENSHYNE nydjlive plz  ply me ne woa  manife...\n",
       "6  0x3101fd  I am thankful for my husband,  family, furry b...\n",
       "7  0x1e1f33  I have dreams but then there are dreams that f...\n",
       "8  0x1f32bd  Fuck you JoelOsteen God will judge you for you...\n",
       "9  0x32e0c3  Pretty sure he was safe...just because the thr..."
      ]
     },
     "execution_count": 60,
     "metadata": {},
     "output_type": "execute_result"
    }
   ],
   "source": [
    "test_df = pd.read_csv(\"kaggle_data/test_df.csv\")\n",
    "test_df.head(10)"
   ]
  },
  {
   "cell_type": "markdown",
   "metadata": {},
   "source": [
    "## Model"
   ]
  },
  {
   "cell_type": "markdown",
   "metadata": {},
   "source": [
    "The models I have tried include:\n",
    "\n",
    "1.  distilbert-base-uncased\n",
    "\n",
    "2.  roberta-base\n",
    "\n",
    "    -   with more preprocessing -> remove '<LH>', '@', and '#' ... \n",
    "\n",
    "    -   with less preprocessing -> only tokenization\n",
    "\n",
    "3.  cardiffnlp/twitter-xlm-roberta-base\n",
    "\n",
    "4.  cardiffnlp/twitter-roberta-large-2022-154m"
   ]
  },
  {
   "cell_type": "code",
   "execution_count": null,
   "metadata": {},
   "outputs": [],
   "source": [
    "from datasets import load_dataset\n",
    "from transformers import AutoTokenizer\n",
    "from transformers import DataCollatorWithPadding\n",
    "from transformers import TrainingArguments, Trainer\n",
    "from transformers import RobertaForSequenceClassification\n",
    "import numpy as np\n",
    "import evaluate\n",
    "\n",
    "raw_datasets = load_dataset(\"csv\", data_files={\"train\": \"kaggle_answer/train_df.csv\", \"validation\": \"kaggle_answer/valid_df.csv\"})\n",
    "\n",
    "tokenizer = AutoTokenizer.from_pretrained(\"roberta-base\")\n",
    "\n",
    "id2label = {0: \"anger\", 1: \"anticipation\", 2: \"disgust\", 3: \"fear\", 4: \"sadness\", 5: \"surprise\", 6: \"trust\", 7: \"joy\"}\n",
    "label2id = {\"anger\": 0, \"anticipation\": 1, \"disgust\": 2, \"fear\": 3, \"sadness\": 4, \"surprise\": 5, \"trust\": 6, \"joy\": 7}\n",
    "\n",
    "def preprocess_function(examples):\n",
    "    tokenized_example = tokenizer(examples['text'], truncation=True, padding=True, max_length=512)\n",
    "    tokenized_example['label'] = [label2id[label] for label in examples['labels']]\n",
    "    return tokenized_example\n",
    "\n",
    "tokenized_data = raw_datasets.map(preprocess_function, batched=True, remove_columns=[\"text\", \"labels\"])\n",
    "data_collator = DataCollatorWithPadding(tokenizer=tokenizer)\n",
    "\n",
    "accuracy = evaluate.load(\"accuracy\")\n",
    "\n",
    "def compute_metrics(eval_pred):\n",
    "    predictions, labels = eval_pred\n",
    "    predictions = np.argmax(predictions, axis=1)\n",
    "    return accuracy.compute(predictions=predictions, references=labels)\n",
    "\n",
    "model = RobertaForSequenceClassification.from_pretrained(\n",
    "    'roberta-base', num_labels=8, id2label=id2label, label2id=label2id\n",
    "    )"
   ]
  },
  {
   "cell_type": "code",
   "execution_count": null,
   "metadata": {},
   "outputs": [],
   "source": [
    "training_args = TrainingArguments(\n",
    "    output_dir=\"Roberta_Base_model\",\n",
    "    learning_rate=2e-5,\n",
    "    per_device_train_batch_size=8,\n",
    "    per_device_eval_batch_size=8,\n",
    "    num_train_epochs=8,\n",
    "    weight_decay=0.01,\n",
    "    evaluation_strategy=\"epoch\",\n",
    "    save_strategy=\"epoch\",\n",
    "    load_best_model_at_end=True,\n",
    "    push_to_hub=False,\n",
    ")\n",
    "\n",
    "trainer = Trainer(\n",
    "    model=model,\n",
    "    args=training_args,\n",
    "    train_dataset=tokenized_data['train'],\n",
    "    eval_dataset=tokenized_data['validation'],\n",
    "    tokenizer=tokenizer,\n",
    "    data_collator=data_collator,\n",
    "    compute_metrics=compute_metrics,\n",
    ")\n",
    "\n",
    "trainer.train()"
   ]
  },
  {
   "cell_type": "markdown",
   "metadata": {},
   "source": [
    "## Inference"
   ]
  },
  {
   "cell_type": "code",
   "execution_count": null,
   "metadata": {},
   "outputs": [],
   "source": [
    "from transformers import pipeline\n",
    "import pandas as pd\n",
    "from tqdm import tqdm\n",
    "\n",
    "test_data = pd.read_csv(\"kaggle_data/test_df.csv\")\n",
    "classifier = pipeline(\"sentiment-analysis\", model=\"path_to_my_model\", device=0)\n",
    "\n",
    "def classify_emotion(text):\n",
    "    return classifier(text)[0].get(\"label\")\n",
    "\n",
    "answer = []\n",
    "for i in tqdm(range(len(test_data))):\n",
    "    answer.append(classify_emotion(test_data['text'][i]))\n",
    "\n",
    "test_data['emotion'] = answer\n",
    "\n",
    "answer_df = test_data[[\"tweet_id\", 'emotion']]\n",
    "answer_df.reset_index(drop=True, inplace=True)\n",
    "print(answer_df)\n",
    "\n",
    "answer_df.to_csv(\"kaggle_answer/answer.csv\",index= False)"
   ]
  },
  {
   "cell_type": "markdown",
   "metadata": {},
   "source": [
    "## Result"
   ]
  },
  {
   "cell_type": "markdown",
   "metadata": {},
   "source": [
    "Ultimately, the best result was achieved by fine-tuning the Roberta-base model using text with less preprocessing."
   ]
  },
  {
   "cell_type": "markdown",
   "metadata": {},
   "source": [
    "[Submission Snapshot](img/result.png)"
   ]
  },
  {
   "cell_type": "markdown",
   "metadata": {},
   "source": [
    "## Discussion & Insights "
   ]
  },
  {
   "cell_type": "markdown",
   "metadata": {},
   "source": [
    "##### Analyzing the reasons for not achieving a higher score:\n",
    "\n",
    "1.\n",
    "    When balancing the data, the undersampling method was employed using the count of the minority class as the target \n",
    "    \n",
    "    sample size. However, this approach led to the issues such as reduction in data diversity (a significant number of \n",
    "    \n",
    "    samples were removed from the majority classes) and loss of vital information (the minority classes in the data \n",
    "    \n",
    "    may contain crucial and unique information).\n",
    " \n",
    "    Possible improvement method: Implement oversampling techniques such as SMOTE (Synthetic Minority Over-sampling \n",
    "    \n",
    "    Technique), this might help maintain data diversity while reducing the impact on the majority class.\n",
    "\n",
    "\n",
    "2. \n",
    "    Before fine-tuning the model, I did not employ any feature engineering methods. The lack of feature engineering \n",
    "    \n",
    "    might lead to poor model performance because it might lead to losing valuable information, making it harder for \n",
    "    \n",
    "    the model to grasp patterns and connections in the data. To tackle this, using techniques like TF-IDF weighting\n",
    "    \n",
    "    and word embeddings is crucial for preserving the meaning. Moreover, without feature engineering, the model may \n",
    "    \n",
    "    struggle to understand context and relationships, affecting its capability to notice small changes in emotions. \n",
    "    \n",
    "    Not considering these factors raises the chance of handling a complicated feature space, making it difficult to \n",
    "    \n",
    "    train the model and possibly resulting in overfitting or dimensionality problems.\n"
   ]
  },
  {
   "cell_type": "markdown",
   "metadata": {},
   "source": [
    "##### Discovered that fine-tuning the model with preprocessed text resulted in inferior performance.\n",
    "\n",
    "Possible reasons:\n",
    "\n",
    "1.  Removing away special characters and mentions may have affected the semantic richness of the text, \n",
    "\n",
    "    making it harder for the model to capture meanings and context.\n",
    "\n",
    "2.  Tokenization alone might not be sufficient for capturing the complexity of emotional expressions in tweets, \n",
    "\n",
    "    especially when dealing with informal language and diverse writing styles.\n",
    "\n",
    "3.  In certain scenarios, the model may prefer raw text over excessively preprocessed text because raw text \n",
    "    \n",
    "    retains more contextual information."
   ]
  },
  {
   "cell_type": "markdown",
   "metadata": {},
   "source": [
    "## Reference"
   ]
  },
  {
   "cell_type": "markdown",
   "metadata": {},
   "source": [
    "https://huggingface.co/docs/transformers/tasks/sequence_classification\n",
    "\n",
    "https://huggingface.co/roberta-base\n",
    "\n",
    "https://huggingface.co/cardiffnlp/twitter-xlm-roberta-base\n",
    "\n",
    "https://huggingface.co/cardiffnlp/twitter-roberta-large-2022-154m"
   ]
  }
 ],
 "metadata": {
  "kernelspec": {
   "display_name": "Python 3 (ipykernel)",
   "language": "python",
   "name": "python3"
  },
  "language_info": {
   "codemirror_mode": {
    "name": "ipython",
    "version": 3
   },
   "file_extension": ".py",
   "mimetype": "text/x-python",
   "name": "python",
   "nbconvert_exporter": "python",
   "pygments_lexer": "ipython3",
   "version": "3.11.5"
  },
  "varInspector": {
   "cols": {
    "lenName": 16,
    "lenType": 16,
    "lenVar": 40
   },
   "kernels_config": {
    "python": {
     "delete_cmd_postfix": "",
     "delete_cmd_prefix": "del ",
     "library": "var_list.py",
     "varRefreshCmd": "print(var_dic_list())"
    },
    "r": {
     "delete_cmd_postfix": ") ",
     "delete_cmd_prefix": "rm(",
     "library": "var_list.r",
     "varRefreshCmd": "cat(var_dic_list()) "
    }
   },
   "types_to_exclude": [
    "module",
    "function",
    "builtin_function_or_method",
    "instance",
    "_Feature"
   ],
   "window_display": false
  }
 },
 "nbformat": 4,
 "nbformat_minor": 2
}
